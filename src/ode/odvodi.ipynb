{
 "cells": [
  {
   "cell_type": "markdown",
   "id": "fe582d73",
   "metadata": {},
   "source": [
    "### $d\\mathcal L_{\\text{rel}}$\n",
    "$$\n",
    " \\mathcal L_{\\text{rel}} = \n",
    "  \\frac{1}{3}(||S^2 - I ||^2_F + ||R^n -I||^2_F + || (RS)^2 - I ||^2_F),\n",
    "$$\n",
    "kjer je $R=\\rho(r)$ in $S = \\rho(s)$.\n",
    "\n",
    "Velja\n",
    "$$\n",
    "\\frac{d}{dX}||X^n-I||_F^2=2\\left (\\sum\\limits_{i=0}^{n-1}X^{n-i-1}(X^T)^n X^i  -nX^{n-1}  \\right )^T \n",
    "$$\n",
    "Za lažje računanje uvedemo\n",
    "$$\n",
    "Q(X,n) = \\sum\\limits_{i=0}^{n-1}X^{n-i-1}(X^T)^n X^i -nX^{n-1}\n",
    "$$\n",
    "Velja še \n",
    "$$\n",
    "\\frac{d}{dR}||(RS)^2 - I||_F^2 = 2\\left(SRS(RS)^{T^2} + S(RS)^{T^2} RS - 2SRS        \\right ) ^T\n",
    "$$ \n",
    "in \n",
    "$$\n",
    "\\frac{d}{dR}||(RS)^2 - I||_F^2 = 2 \\left (RS (RS)^{T^2} R + (RS)^{T^2}RSR - 2RSR                 \\right) ^T\n",
    "$$\n"
   ]
  },
  {
   "cell_type": "markdown",
   "id": "e7faf56a",
   "metadata": {},
   "source": [
    "### $d \\mathcal L_{\\text{irr}}$\n",
    "$$\n",
    " \\mathcal L_{\\text{irr}} =\n",
    " (|\\chi|-1)^2\n",
    " \\\\= \\left( \n",
    "    (\\frac{1}{2n} \\sum \\limits_{i=0}^{n-1} ( |\\text{tr}(R^i)|^2 + |\\text{tr}(R^iS)|^2 )  ) -1\n",
    "    \\right )^2,\n",
    "$$\n",
    "kjer je $R=\\rho(r)$, $S = \\rho(s)$ in $|\\chi| = \\frac{1}{2n} \\sum \\limits_{i=0}^{n-1} ( |\\text{tr}(R^i)|^2 + |\\text{tr}(R^iS)|^2 )  )$\n",
    "Velja\n",
    "$$\n",
    "d(|\\chi| -1) = d|\\chi| = \\text{tr}\\left((\\frac{1}{n} \\sum_{i=0}^{n-1} \\text{tr}(R^iS)R^i       )dS           \\right) +\\\\\n",
    "\\text{tr}\\left((\\frac{1}{n} \\sum_{i=1}^{n-1} \\text{tr}(R^i)iR^{i-1}           )dR  \\right)+\\\\\n",
    "\\text{tr}\\left((\\frac{1}{n} \\sum_{i=1}^{n-1} \\text{tr}(R^iS)(\\sum_{j=0}^{i-1}  R^{i-j-1}SR^j)         )dR \\right)\n",
    "$$"
   ]
  },
  {
   "cell_type": "markdown",
   "id": "115e4c31",
   "metadata": {},
   "source": [
    "$$\n",
    "\\frac{d}{dR}(|\\chi| -1)^2 =\\\\ \\frac{2}{n}(1 - |\\chi|) \n",
    "\\left (\n",
    "\\sum_{i=1}^{n-1} \\text{tr}(R^i)iR^{i-1} + \n",
    "\\text{tr}(R^iS)(\\sum_{j=0}^{i-1}  R^{i-j-1}SR^j)         \n",
    "\\right)^T\n",
    "$$"
   ]
  },
  {
   "cell_type": "markdown",
   "id": "4bc3187a",
   "metadata": {},
   "source": [
    "$$\n",
    "\\frac{d}{dS}(|\\chi| -1)^2 \\\\= \\frac{2}{n}(1 - |\\chi|)\n",
    " \\left (\\sum_{i=0}^{n-1} \\text{tr}(R^iS)R^i      \\right) ^T\n",
    "$$\n"
   ]
  }
 ],
 "metadata": {
  "language_info": {
   "name": "python"
  }
 },
 "nbformat": 4,
 "nbformat_minor": 5
}
