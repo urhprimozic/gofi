{
 "cells": [
  {
   "cell_type": "markdown",
   "metadata": {},
   "source": [
    "# Diederske grupe \n",
    "Študiramo (2d) upodobitve diederskih grup\n",
    " $D_{2n} = <r, s \\mid r^n = s^2 = (rs)^2 = 1>$."
   ]
  },
  {
   "cell_type": "markdown",
   "metadata": {},
   "source": [
    "### Diferencial $\\mathcal L_{\\text{rel}}$\n",
    "$$\n",
    " L_{\\text{rel}} = \\frac{1}{3}(||\\rho(s)^2 - I ||^2_F + ||\\rho(r)^n -I||^2_F + || (\\rho(r)\\rho(s))^2 - I ||^2_F) \n",
    "$$\n",
    "Veljajo pa enakosti\n",
    "$$\n",
    "\\frac{d}{dA}||A^n - I||^2_F = 2(A^n - I) \\sum \\limits_{k=0}^{n-1}A^k \\otimes A^{n - 1 - k}\n",
    "$$\n",
    "in\n",
    "$$\n",
    "\\frac{d}{dA}||(AB)^2 - I||^2_F = 2(A^n - I)\\left (I \\otimes (AB) + (AB) \\otimes I\\right )(B^T \\otimes I)\n",
    "$$\n",
    "\n",
    "Tako je TODO "
   ]
  },
  {
   "cell_type": "code",
   "execution_count": 1,
   "metadata": {},
   "outputs": [],
   "source": [
    "# definiraj grad_L"
   ]
  },
  {
   "cell_type": "code",
   "execution_count": 2,
   "metadata": {},
   "outputs": [],
   "source": [
    "# poženi solve_ivp"
   ]
  },
  {
   "cell_type": "code",
   "execution_count": 5,
   "metadata": {},
   "outputs": [],
   "source": [
    "# graf karakterjev"
   ]
  }
 ],
 "metadata": {
  "kernelspec": {
   "display_name": "venv",
   "language": "python",
   "name": "python3"
  },
  "language_info": {
   "codemirror_mode": {
    "name": "ipython",
    "version": 3
   },
   "file_extension": ".py",
   "mimetype": "text/x-python",
   "name": "python",
   "nbconvert_exporter": "python",
   "pygments_lexer": "ipython3",
   "version": "3.12.3"
  }
 },
 "nbformat": 4,
 "nbformat_minor": 2
}
