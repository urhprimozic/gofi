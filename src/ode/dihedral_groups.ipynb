{
 "cells": [
  {
   "cell_type": "markdown",
   "metadata": {},
   "source": [
    "# Diederske grupe \n",
    "Študiramo (2d) upodobitve diederskih grup\n",
    " $D_{2n} = <r, s \\mid r^n = s^2 = (rs)^2 = 1>$."
   ]
  },
  {
   "cell_type": "markdown",
   "metadata": {},
   "source": [
    "### Diferencial $\\mathcal L_{\\text{rel}}$\n",
    "$$\n",
    " L_{\\text{rel}} = \\frac{1}{3}(||\\rho(s)^2 - I ||^2_F + ||\\rho(r)^n -I||^2_F + || (\\rho(r)\\rho(s))^2 - I ||^2_F) \n",
    "$$\n",
    "Veljajo pa enakosti\n",
    "$$\n",
    "||(AB^n - I)||_F^2 = tr((AB^n - I) (AB^n - I)^T) =\\\\\n",
    "= tr((AB(AB)^T)^n) - 2tr((AB)^n) + n\n",
    "$$ \n",
    "in\n",
    "$$\n",
    "d(||(AB^n - I)||_F^2 ) = \n",
    "\\\\\n",
    "=\n",
    "tr([n((AB)^TAB)^{n-1} (AB)^T + n (AB)^T(AB (AB)^T)^{n-1}]d(AB))\n",
    "- tr(2n(AB)^{n-1}d(AB))\n",
    "=\\\\=\n",
    "tr(([n((AB)^TAB)^{n-1} (AB)^T + n (AB)^T(AB (AB)^T)^{n-1}] - \n",
    "2n(AB)^{n-1})d(AB))\n",
    "$$\n",
    "Zato je \n",
    "$$\\frac{d}{dA}||(AB^n - I)||_F^2 =\\\\= (([nB((AB)^TAB)^{n-1} (AB)^T + n (AB)^T(AB (AB)^T)^{n-1}] - \n",
    "2n(AB)^{n-1}))^T$$\n",
    "in\n",
    "$$\\frac{d}{dB}||(AB^n - I)||_F^2 =\\\\= (([n((AB)^TAB)^{n-1} (AB)^T + n (AB)^T(AB (AB)^T)^{n-1}] - \n",
    "2n(AB)^{n-1})A)^T$$\n",
    "\n",
    "\n",
    "Tako je TODO "
   ]
  },
  {
   "cell_type": "code",
   "execution_count": null,
   "metadata": {},
   "outputs": [],
   "source": [
    "# definiraj grad_L\n"
   ]
  },
  {
   "cell_type": "code",
   "execution_count": 2,
   "metadata": {},
   "outputs": [],
   "source": [
    "# poženi solve_ivp"
   ]
  },
  {
   "cell_type": "code",
   "execution_count": 3,
   "metadata": {},
   "outputs": [],
   "source": [
    "# graf karakterjev"
   ]
  }
 ],
 "metadata": {
  "kernelspec": {
   "display_name": "venv",
   "language": "python",
   "name": "python3"
  },
  "language_info": {
   "codemirror_mode": {
    "name": "ipython",
    "version": 3
   },
   "file_extension": ".py",
   "mimetype": "text/x-python",
   "name": "python",
   "nbconvert_exporter": "python",
   "pygments_lexer": "ipython3",
   "version": "3.12.3"
  }
 },
 "nbformat": 4,
 "nbformat_minor": 2
}
