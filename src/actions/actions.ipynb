{
 "cells": [
  {
   "cell_type": "markdown",
   "id": "877f4837",
   "metadata": {},
   "source": [
    "# Iskanje delovanj\n",
    "V tem dokumentu predstavim uporabo diferencialnih enačb za iskanje delovanj in avtomorfizmov grafov.\n",
    "\n",
    "## Delovanja\n",
    "Iščemo model za homomorfizme $G=<S|R> \\to S_n$. Naivno bi lahko vsak generator $s$ slikali v poljubno tabelo $\\rho(s) = \\begin{pmatrix} \n",
    "1 & 2 & \\cdots & n \\\\\n",
    "1^s & 2^s & \\cdots & n^s \n",
    "\\end{pmatrix}$ in spreminjali vrednosti $1^s, 2^s, \\ldots, n^s $, da $\\rho$ postane homomorfziem. Težava je, da so vrednosti v tabeli diskretne in gradientne metode optimizacije odpadejo. \n",
    "\n",
    "Rešitev je, da na prostoru funckij $S_n$ (ali pa na $\\text{fun}([n], [n])$) uvedemo verjetnostno porazdelitev $P = P(\\phi)$ in optimiziramo $P(\\rho \\text{ je homomorfizem}$.\n",
    "\n",
    "Meni se zdita smiselna dva načina. Eden je bolj strojno učenjaški, eden pa je zelo podoben iskanju upodobitev."
   ]
  },
  {
   "cell_type": "markdown",
   "id": "697e8f90",
   "metadata": {},
   "source": [
    "## Matrični pristop\n",
    "Vzenimo  model $\\rho_\\phi \\colon G=<S|R> \\to \\text{dist}(\\text{fun}([n], [n]))$, ki je definiram s tem, da vsakemu generatorju $s \\in S$ dodeli matriko $\\phi_s \\in \\mathbb R^{n \\times n}$. *(Simetrično kot pri upodobitvah!!)*\n",
    "\n",
    "Matriko $\\phi_s$ pretvorimo v stohastično matriko $P_s=\\begin{bmatrix} s_{i,j} \\end{bmatrix}_{i, j = 1, \\dots, n} := \\text{softmax}_\\text{po vrsticah} (\\phi_s)$. \n",
    "\n",
    "S $P_s$ je določena porazdelitev nad $\\text{fun}([n], [n])$. Na $s \\in S$ lahko gledamo kot slučajno spremenljivko $s \\in  \\text{fun}([n], [n])$ in definiramo \n",
    "$$\n",
    "P(s(i) = j) := s_{i, j}.\n",
    "$$\n",
    "Za poljubno deterministično funckijo $f \\in \\text{fun}([n], [n])$ definiramo še \n",
    "$$\n",
    " P(s = f) = \\prod_{i=1}^n P(s(i) = f(i)) = \\prod_{i=1}^n s_{i, f(i)}.\n",
    "$$\n",
    "S tem smo definirali model $\\rho$, ki vsako matriko iz $\\{\\phi_s \\mid s \\in S\\}$ slika v svojo slučajno spremenljivko $s \\in \\text{fun}([n], [n])$. \n",
    "\n",
    "Želeli bi, da je **$P(\\rho \\text{ je homomorfizem in ima lepe lastnosti})$** čim večja."
   ]
  },
  {
   "cell_type": "markdown",
   "id": "3c595a86",
   "metadata": {},
   "source": [
    "### $\\mathcal L_{rel}$ - kaznujmo modele, ki niso homomomorfizmi\n",
    "Naj bo $G=<S|R>$ in $r \\in R$ beseda v generatorjih iz $R$. Na vsak generator lahko gledamo kot na slučajno funkcijo nad $[n]$. Podobno lahko tudi na $r$ gledamo kot na kompozitum svojih generatorjev. Velja še, da je matrika porazdelitve za $r$ enaka $P_r = \\begin{bmatrix} P(r(i) = j) \\end{bmatrix}_{i,j} = \\prod _{s \\in r} P_s$ produkt matrik porazdelitev generatorjev v $r$. \n",
    "\n",
    "Želimo si, da je $r$ kot slučajna funkcija skoraj zagotovo enaka identiteti, torej da je \n",
    "$$\n",
    "P(r = \\text{id}) = 1.\n",
    "$$\n",
    "Ekvivalentno: \n",
    "$$\n",
    "0 = \\log(P(r = \\text{id})) = \\log(\\prod_{i=1}^n r_{i,i}) = \\sum_{i=1}^n \\log (r_{i,j}) = \\text{trace} (\\log(P_r)),\n",
    "$$\n",
    "kjer logaritem matrike računamo po elementih.\n",
    "Za funckijo izgube lahko vzamemo\n",
    "\n",
    "$\\mathcal L_{rel} =- \\text{trace} (\\log(P_r)) =-\n",
    " \\text{trace} (\\log(\\prod_{s \\in r}  \\text{softmax}(\\phi_s)  ))$.\n",
    "\n",
    "*Na nek način gre za maximal negative likelihood*."
   ]
  },
  {
   "cell_type": "code",
   "execution_count": 114,
   "id": "81ea9f27",
   "metadata": {},
   "outputs": [
    {
     "name": "stdout",
     "output_type": "stream",
     "text": [
      "Starting parameters:  tensor([[[1., 1., 1.],\n",
      "         [1., 1., 1.],\n",
      "         [1., 1., 1.]],\n",
      "\n",
      "        [[1., 1., 1.],\n",
      "         [1., 1., 1.],\n",
      "         [1., 1., 1.]]], requires_grad=True)\n"
     ]
    }
   ],
   "source": [
    "# torch \n",
    "import torch\n",
    "n = 3\n",
    "# Dn\n",
    "\n",
    "\n",
    "\n",
    "# za Dn --> Dn: \n",
    "phi = torch.tensor([[[0.19, 0.87, 0.43],\n",
    "         [0.58, 0.23, 0.97],\n",
    "         [0.57, 0.03, 1.00]],\n",
    "\n",
    "        [[0.48, 0.64, 0.04],\n",
    "         [0.47, 0.17, 0.84],\n",
    "         [0.63, 0.53, 0.74]]], requires_grad=True)\n",
    "\n",
    "\n",
    "# random : \n",
    "phi = torch.rand((2, n, n), requires_grad=True)\n",
    "phi = torch.ones((2, n, n), requires_grad=True)\n",
    "\n",
    "\n",
    "generators = {\n",
    "'r' : 0, 's' :1\n",
    "}\n",
    "relations = ['r'*n, 's'*2, 'rsrs']\n",
    "\n",
    "softmax = torch.nn.Softmax(dim=1)\n",
    "\n",
    "def get_P(generator, phi):\n",
    "    return softmax(phi[generators[generator]])\n",
    "\n",
    "\n",
    "\n",
    "def loss_rel(generators, relations, phi):\n",
    "    ans =torch.zeros((n,n))\n",
    "    for r in relations:\n",
    "        prod = torch.eye(n)\n",
    "        for s in r:\n",
    "            prod = prod @ softmax(phi[generators[s]])\n",
    "        prod = torch.log(prod)\n",
    "        ans += prod \n",
    "    return -ans.trace() \n",
    "\n",
    "\n",
    "\n",
    "\n",
    "print(\"Starting parameters: \", phi)\n"
   ]
  },
  {
   "cell_type": "code",
   "execution_count": 115,
   "id": "46bfd366",
   "metadata": {},
   "outputs": [
    {
     "name": "stdout",
     "output_type": "stream",
     "text": [
      "Loss at step 1: 9.887510299682617\n",
      "Loss at step 501: 9.887510299682617\n",
      "Loss at step 1001: 9.887510299682617\n",
      "Loss at step 1501: 9.887510299682617\n",
      "Loss at step 2001: 9.887510299682617\n",
      "Loss at step 2501: 9.887510299682617\n"
     ]
    }
   ],
   "source": [
    "# training \n",
    "from torch.optim import Adam\n",
    "from torch.optim.lr_scheduler import StepLR\n",
    "\n",
    "n_steps = 3000\n",
    "opt = Adam([phi], lr= 0.01)\n",
    "#scheduler = StepLR(opt, step_size=30, gamma=0.1)\n",
    "\n",
    "for step in range(1, n_steps+1):\n",
    "    opt.zero_grad()\n",
    "    loss = loss_rel(generators, relations, phi)\n",
    "    loss.backward()\n",
    "    opt.step()\n",
    "   # scheduler.step()\n",
    "    if step % 500 == 1:\n",
    "        print(f\"Loss at step {step}: {loss.item()}\")\n",
    "    \n",
    "    \n"
   ]
  },
  {
   "cell_type": "code",
   "execution_count": 116,
   "id": "8fbea20f",
   "metadata": {},
   "outputs": [
    {
     "data": {
      "text/plain": [
       "(tensor([[0.33, 0.33, 0.33],\n",
       "         [0.33, 0.33, 0.33],\n",
       "         [0.33, 0.33, 0.33]], grad_fn=<SoftmaxBackward0>),\n",
       " tensor([[0.33, 0.33, 0.33],\n",
       "         [0.33, 0.33, 0.33],\n",
       "         [0.33, 0.33, 0.33]], grad_fn=<SoftmaxBackward0>))"
      ]
     },
     "execution_count": 116,
     "metadata": {},
     "output_type": "execute_result"
    }
   ],
   "source": [
    "R = get_P('r', phi)\n",
    "S = get_P('s', phi)\n",
    "torch.set_printoptions(precision=2, sci_mode=False)\n",
    "R, S"
   ]
  },
  {
   "cell_type": "code",
   "execution_count": 117,
   "id": "464952d7",
   "metadata": {},
   "outputs": [
    {
     "data": {
      "text/plain": [
       "({1: 1, 2: 2, 3: 3}, {1: 1, 2: 2, 3: 3})"
      ]
     },
     "execution_count": 117,
     "metadata": {},
     "output_type": "execute_result"
    }
   ],
   "source": [
    "from scipy.optimize import linear_sum_assignment\n",
    "\n",
    "def closest_permutation_matrix(M: torch.Tensor) -> torch.Tensor:\n",
    "    # Convert to numpy for scipy\n",
    "    M_np = M.detach().numpy()\n",
    "\n",
    "    # Solve the linear sum assignment problem on the NEGATED matrix\n",
    "    # (because we want to maximize the sum, but scipy minimizes)\n",
    "    row_ind, col_ind = linear_sum_assignment(-M_np)\n",
    "\n",
    "    # Create the permutation matrix\n",
    "    n = M.size(0)\n",
    "    P = torch.zeros_like(M)\n",
    "    P[row_ind, col_ind] = 1.0\n",
    "    return P\n",
    "\n",
    "def permutation_from_matrix(X: torch.Tensor) -> torch.Tensor:\n",
    "    table =X.argmax(dim=1) + 1 \n",
    "    perm = {}\n",
    "    for i in range(X.shape[0]):\n",
    "        perm[i+1] = table[i].item()\n",
    "    return perm\n",
    "\n",
    "\n",
    "permutation_from_matrix(closest_permutation_matrix(R)), permutation_from_matrix(closest_permutation_matrix(S))\n"
   ]
  },
  {
   "cell_type": "markdown",
   "id": "7df33d7a",
   "metadata": {},
   "source": [
    "### $\\mathcal L_{perm}$ - kaznujmo modele, ki niso permutacije\n",
    "Podobno kot pri upodobitvah, ko definiramo funckijo izgube $\\mathcal L_{unit}$, ki matrike optimizira v unitarne in s tem v obrnljive, lahko tukaj pomagamo $\\mathcal L_{rel}$ s tem, da funckije \"potiskamo\" v bijekcije. \n",
    "\n",
    "Naj bo $s \\in S$ generator. Radi bi, da je $s$ kot preslikava nad $[n]$ skoraj zagotovo bijekcija, torej \n",
    "$$\n",
    "P(s \\in S_n )= 1.\n",
    "$$\n",
    "Velja pa \n",
    "$$\n",
    "P(s \\in S_n )= \\sum_{\\sigma \\in S_n} P(s = \\sigma) = \\sum_{\\sigma \\in S_n}   \\prod_{i=1}^n s_{i, \\sigma(i)}\n",
    "= \\text{Perm} (P_s).\n",
    "$$\n",
    "[Edine stohastične matrike z enotskim permanentom so permutacijske](https://math.stackexchange.com/questions/5063254/if-a-stochastic-matrix-has-unit-permanent-is-it-a-permutation-matrix), torej je \n",
    "$\n",
    "P(s \\in S_n )= 1.\n",
    "$ natantko tedaj, ko je $P_s$ permutacijska. Za stohastične matrike pa je to ekvivalentno temu, da je $P_s$ **unitarna**. \n",
    "\n",
    "Za funkcijo izgube lahko vzamemo kar funckijo izgube za unitarnost, uporabljeno na matrikah $P_s$:\n",
    "$$\n",
    "\\mathcal L_{perm} = \\sum_{s \\in S}||P_sP_s^*  - I||_F^2.\n",
    "$$"
   ]
  },
  {
   "cell_type": "markdown",
   "id": "e2b79e21",
   "metadata": {},
   "source": [
    "### Avtomorfizmi grafov \n",
    "Naj bo $\\mathcal G = ([n], E)$ graf na $n$ vozljiščih in $M=\\begin{bmatrix}m_{i,j}\\end{bmatrix}$ njegova matrika sosednosti. Naš model $\\rho_\\phi$ lahko spreminjamo v avtomorfizem grafa $\\mathcal G$.\n",
    "\n",
    "Za $(i,j) \\in E$ računamo \n",
    "$$\n",
    "P(i^s \\sim j ^s) = \\sum_{k= 1}^n \\sum_{h = 1}^n s_{i, k} s_{j, h} m_{k,h} = s_j^T M s_i,\n",
    "$$\n",
    "kjer je $P_s = \\begin{bmatrix} s_1^T \\\\ \\vdots \\\\ s_n^T \\end{bmatrix}$.\n",
    "\n",
    "Radi bi, da velja \n",
    "$\n",
    "1 = \\displaystyle\\prod_{(i,j) \\in E} P(i^s \\sim j ^s).\n",
    "$. \n",
    "Za funkcijo izgube lahko vzamemo\n",
    "$$\n",
    "\\mathcal L_{aut} = -\\sum_{i=1}^n\\sum_{j=1}^n log(s_j^T M s_i)m_{i,j}= -\\text{tr}(\\log(P_sMP_s^T) M^T),\n",
    "$$\n",
    "kjer je $\\log(SMS^T)$ izračunan po elementih."
   ]
  },
  {
   "cell_type": "markdown",
   "id": "df203259",
   "metadata": {},
   "source": [
    "Podoben premislek dela za poljubne morfizme grafov. Naj bo $M$ matrika sosednosti enega grafa in $N$ matrika sosednosti drugega. Velja $P(i^s \\sim j ^s) = \\sum_{k= 1}^n \\sum_{h = 1}^n s_{i, k} s_{j, h} n_{k,h} = s_j^T N s_i$. Za loss izberemo \n",
    "$$\n",
    "\\mathcal L_{aut} = -\\sum_{i=1}^n\\sum_{j=1}^n log(s_j^T N s_i)m_{i,j}= -\\text{tr}(\\log(P_sNP_s^T) M^T)\n",
    "$$"
   ]
  },
  {
   "cell_type": "markdown",
   "id": "dd795bb2",
   "metadata": {},
   "source": [
    "### Avtomorfizmi grafov - brez group\n",
    "Verjetno je bolj smiselno iskati le avtomorfizme grafov. Vse isto, le pozabiš na $G$."
   ]
  },
  {
   "cell_type": "markdown",
   "id": "1b20b236",
   "metadata": {},
   "source": [
    "Demo: poiščimo kak avtomorfizem preporostega grafa:\n",
    "![Demo graf](demo_graph.png)"
   ]
  },
  {
   "cell_type": "code",
   "execution_count": 118,
   "id": "7087724e",
   "metadata": {},
   "outputs": [
    {
     "data": {
      "text/plain": [
       "[(0, 2), (0, 3), (0, 4), (1, 2), (1, 3), (1, 5), (2, 5), (3, 4), (4, 5)]"
      ]
     },
     "execution_count": 118,
     "metadata": {},
     "output_type": "execute_result"
    }
   ],
   "source": [
    "import itertools\n",
    "\n",
    "def compose(p, q):\n",
    "    \"\"\"Return the composition p ∘ q (first q, then p) for permutations\n",
    "    stored as tuples whose i-th entry is the image of i+1.\"\"\"\n",
    "    return tuple(p[q[i] - 1] for i in range(len(p)))\n",
    "\n",
    "def inverse(p):\n",
    "    \"\"\"Inverse of a permutation given in tuple form.\"\"\"\n",
    "    inv = [0] * len(p)\n",
    "    for i, x in enumerate(p):\n",
    "        inv[x - 1] = i + 1\n",
    "    return tuple(inv)\n",
    "\n",
    "def cayley_Sn_edges(n: int):\n",
    "    \"\"\"\n",
    "    Return the edge list of the (undirected) Cayley graph of S_n\n",
    "    with generators a = (1 2) and b = (1 2 … n).  Vertices are\n",
    "    indexed 0 … n!−1 in lexicographic order of permutations.\n",
    "    Each edge is an ordered pair (i, j) with i < j.\n",
    "    \"\"\"\n",
    "    if n < 2:\n",
    "        raise ValueError(\"n must be at least 2\")\n",
    "\n",
    "    # all permutations of 1…n in lexicographic order\n",
    "    perms = list(itertools.permutations(range(1, n + 1)))\n",
    "    index = {p: k for k, p in enumerate(perms)}\n",
    "\n",
    "    # generators\n",
    "    a = tuple([2, 1, *range(3, n + 1)])          # (1 2)\n",
    "    b = tuple([*range(2, n + 1), 1])             # (1 2 … n)\n",
    "    b_inv = inverse(b)                           # (1 n … 2)\n",
    "\n",
    "    edges = set()\n",
    "    for p in perms:\n",
    "        i = index[p]\n",
    "        for g in (a, b, b_inv):\n",
    "            j = index[compose(g, p)]\n",
    "            if i < j:\n",
    "                edges.add((i, j))\n",
    "\n",
    "    # return a list sorted for reproducibility\n",
    "    return sorted(edges)\n",
    "\n",
    "cayley_Sn_edges(3)\n"
   ]
  },
  {
   "cell_type": "code",
   "execution_count": null,
   "id": "ede6cc71",
   "metadata": {},
   "outputs": [],
   "source": []
  },
  {
   "cell_type": "code",
   "execution_count": 123,
   "id": "906817f0",
   "metadata": {},
   "outputs": [
    {
     "name": "stdout",
     "output_type": "stream",
     "text": [
      "Initial matrix:  tensor([[1., 1., 1., 1.],\n",
      "        [1., 1., 1., 1.],\n",
      "        [1., 1., 1., 1.],\n",
      "        [1., 1., 1., 1.]], requires_grad=True)\n",
      "Loss at step 1: 8.545177459716797\n",
      "Loss at step 501: 4.105795860290527\n",
      "Loss at step 1001: 4.0279669761657715\n",
      "Loss at step 1501: 4.0125956535339355\n",
      "Loss at step 2001: 4.006472587585449\n",
      "Loss at step 2501: 4.003348350524902\n"
     ]
    }
   ],
   "source": [
    "# torch\n",
    "\n",
    "m=6\n",
    "m=4\n",
    "# prepare small graph\n",
    "edges = [(0,1), (0,2), (1,2), (2, 3)]\n",
    "\n",
    "#edges = cayley_Sn_edges(3)\n",
    "M = torch.zeros((m,m))\n",
    "for i, j in edges:\n",
    "    M[i,j] = 1\n",
    "    M[j, i] = 1\n",
    "\n",
    "# primer, ko skonvergiramo:\n",
    "Q = torch.tensor([[0.13, 0.34, 0.38, 0.23],\n",
    "        [0.71, 0.22, 0.98, 0.84],\n",
    "        [0.25, 0.52, 0.71, 0.59],\n",
    "        [0.85, 0.93, 0.88, 0.64]], requires_grad=True)\n",
    "\n",
    "\n",
    "# input:\n",
    "Q = torch.rand((m,m), requires_grad=True)\n",
    "Q  =torch.ones((m,m), requires_grad=True)\n",
    "\n",
    "def loss_aut(Q, M):\n",
    "    P = softmax(Q)\n",
    "    ans = P @ M @ P.transpose(0,1)\n",
    "    ans = torch.log(ans )\n",
    "    ans = ans @ M.transpose(0,1)\n",
    "    return -ans.trace()\n",
    "\n",
    "def loss_bijection(Q):\n",
    "    P = softmax(Q)\n",
    "    return torch.linalg.matrix_norm( P@ P.transpose(0,1) - torch.eye(P.shape[0]))**2\n",
    "\n",
    "\n",
    "n_steps_aut = 3000\n",
    "opt_aut = Adam([Q], lr=0.01)\n",
    "\n",
    "print(\"Initial matrix: \", Q)\n",
    "\n",
    "for step in range(1, n_steps_aut+1):\n",
    "    opt_aut.zero_grad()\n",
    "    loss =loss_aut(Q, M) + loss_bijection(Q)\n",
    "    loss.backward()\n",
    "    opt_aut.step()\n",
    "    if step % 500 == 1:\n",
    "        print(f\"Loss at step {step}: {loss.item()}\")\n"
   ]
  },
  {
   "cell_type": "code",
   "execution_count": 124,
   "id": "6d7587a9",
   "metadata": {},
   "outputs": [
    {
     "data": {
      "image/png": "[encoded data removed]",
      "text/plain": [
       "<Figure size 640x480 with 2 Axes>"
      ]
     },
     "metadata": {},
     "output_type": "display_data"
    },
    {
     "data": {
      "text/plain": [
       "tensor([[    0.00,     0.00,     1.00,     0.00],\n",
       "        [    0.50,     0.50,     0.00,     0.00],\n",
       "        [    0.50,     0.50,     0.00,     0.00],\n",
       "        [    0.15,     0.15,     0.70,     0.00]], grad_fn=<SoftmaxBackward0>)"
      ]
     },
     "execution_count": 124,
     "metadata": {},
     "output_type": "execute_result"
    }
   ],
   "source": [
    "import matplotlib.pyplot as plt \n",
    "\n",
    "plt.imshow(softmax(Q).detach().numpy(), cmap='hot', interpolation='nearest')\n",
    "plt.colorbar()\n",
    "plt.title(\"Q matrix\")\n",
    "plt.show()\n",
    "softmax(Q)"
   ]
  },
  {
   "cell_type": "code",
   "execution_count": 121,
   "id": "44207700",
   "metadata": {},
   "outputs": [
    {
     "data": {
      "text/plain": [
       "{1: 1, 2: 2, 3: 3, 4: 4, 5: 5, 6: 6}"
      ]
     },
     "execution_count": 121,
     "metadata": {},
     "output_type": "execute_result"
    }
   ],
   "source": [
    "permutation_from_matrix(closest_permutation_matrix(Q.transpose(0,1)))"
   ]
  },
  {
   "cell_type": "markdown",
   "id": "f26c7b92",
   "metadata": {},
   "source": [
    "## Strojnoučenjaški pristop\n",
    "Namesto, da optimiziramo model $\\rho \\colon G \\to \\text{fun}([n], [n])$, naredimo model, ki že v začetku slika v $S_n$. (Podobno, kot smo pri upodobitvah naredili model, ki direktno slika v O(2)).\n",
    "\n",
    "Velja $S_n = <a, b | R>$. Vsaka permutacija je torej beseda v $\\{a, b\\}$. \n",
    "\n",
    "Besede lahko gradimo rekurzivno. Definiramo model $M : S_n \\to \\text{bernulli}\\{a, b\\}$, ki za vsako permutacijo $\\pi \\in S_n$ vrne vektor verjetnosti  $[P(a | \\pi), P(b | \\pi), P(id | \\pi)]$. S pomočjo tega modela lahko gradimo markovsko verigo:\n",
    "- začneš z identiteto $\\pi_0 = \\text{id}$\n",
    "- vsak korak iz porazdelitve  $[P(a | \\pi_i), P(b | \\pi_i), P(id | \\pi)]$ vzorčiš generator $g \\in \\{a, b\\}$. Če je $g$ identiteta, končaš in vrneš $\\pi _i$, sicer pa nastaviš $\\pi_{i+1} = \\text{perm}(\\pi_i \\circ g)$,\n",
    "kjer je $\\text{perm}$ preslikava, ki besede slika v permutacije, ki jih besede predstavljajo (to je boljše, kot da model za vhod vzame besedo - besede so ppoljubno dolge in redundantne, permutacija pa je  vektor dimenzije $n$).\n",
    "\n",
    "Za poljubno funckijo izgube $\\mathcal L$ nad preslikavami  $G \\mapsto S_n$ lahko minimaliziramo $E[\\mathcal L (\\rho)]$, kjer je $\\rho$ zgoraj opisani slučjani proces.\n",
    "\n",
    "Ta pristop je kul, ker se je z njim (v obliki $S \\to aS  |bs | 1$) vse začelo."
   ]
  }
 ],
 "metadata": {
  "kernelspec": {
   "display_name": "venv",
   "language": "python",
   "name": "python3"
  },
  "language_info": {
   "codemirror_mode": {
    "name": "ipython",
    "version": 3
   },
   "file_extension": ".py",
   "mimetype": "text/x-python",
   "name": "python",
   "nbconvert_exporter": "python",
   "pygments_lexer": "ipython3",
   "version": "3.12.3"
  }
 },
 "nbformat": 4,
 "nbformat_minor": 5
}
