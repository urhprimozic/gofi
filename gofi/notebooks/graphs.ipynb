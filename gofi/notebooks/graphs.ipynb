{
 "cells": [
  {
   "cell_type": "code",
   "execution_count": 11,
   "id": "df008f0b",
   "metadata": {},
   "outputs": [],
   "source": [
    "import torch \n",
    "torch.set_printoptions(precision=2, sci_mode=False)"
   ]
  },
  {
   "cell_type": "code",
   "execution_count": 15,
   "id": "e64608d1",
   "metadata": {},
   "outputs": [
    {
     "data": {
      "text/plain": [
       "(tensor(    0.00, grad_fn=<PowBackward0>),\n",
       " tensor(3.54, grad_fn=<PowBackward0>))"
      ]
     },
     "execution_count": 15,
     "metadata": {},
     "output_type": "execute_result"
    }
   ],
   "source": [
    "from gofi.models import RandomMap\n",
    "from gofi.graphs.loss import BijectiveLoss, RelationLoss\n",
    "\n",
    "id = RandomMap.from_probs(torch.eye(4))\n",
    "BijectiveLoss(id), BijectiveLoss(RandomMap(5))"
   ]
  }
 ],
 "metadata": {
  "kernelspec": {
   "display_name": "venv",
   "language": "python",
   "name": "python3"
  },
  "language_info": {
   "codemirror_mode": {
    "name": "ipython",
    "version": 3
   },
   "file_extension": ".py",
   "mimetype": "text/x-python",
   "name": "python",
   "nbconvert_exporter": "python",
   "pygments_lexer": "ipython3",
   "version": "3.12.3"
  }
 },
 "nbformat": 4,
 "nbformat_minor": 5
}
