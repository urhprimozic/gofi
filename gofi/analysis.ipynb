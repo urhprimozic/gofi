{
 "cells": [
  {
   "cell_type": "markdown",
   "metadata": {},
   "source": [
    "# Irreducable representations gradient search\n",
    "Iščem kandidate za boljše ime...\n",
    "We have a model \n",
    "$$\\phi  \\mapsto \\hat \\rho _\\phi : G \\to \\mathbb{F}^{\\text{dim} \\times \\text{dim}}$$\n",
    "of an unknown irreducable representation $ \\rho _\\phi : G \\to GL_{\\text{dim}}\\mathbb{F}$.\n",
    "\n",
    "Using gradient optimisation, we want to change the parameters $\\phi \\in \\mathbb F ^p$ of the model to minimize \n",
    "$(1 - ||\\chi_{\\hat \\rho_\\phi}||)^2$ and TODO. \n",
    "\n",
    "We study, how initial parameters $\\phi_0$ effect the convergence/divergence of the optimisation. \n",
    "In the future, we might focus on the gradient flow \n",
    "$$\n",
    "\\frac{d\\phi}{dt} = - \\nabla \\mathbf{L} (\\phi)\n",
    "$$"
   ]
  },
  {
   "cell_type": "markdown",
   "metadata": {},
   "source": [
    "### $\\rho \\colon S_3 \\to \\mathbb R$\n",
    "Two distinct real  1dim representations of $S_3$ are $id \\colon S_3 \\to \\mathbb R \\setminus \\{0\\}$ and $\\text{sign} \\colon S_3 \\to \\mathbb R\\setminus\\{0\\}$.\n",
    "\n",
    "TODO: h kateri konvergiramo?"
   ]
  },
  {
   "cell_type": "markdown",
   "metadata": {},
   "source": [
    "Lets first start with a random model $\\hat \\rho_\\phi \\colon S_3 \\to \\R$, defined with\n",
    "$\\hat \\rho_\\phi ((1,2)) = p_1$ and $\\hat \\rho_\\phi ((1,3)) = p_2$. \n",
    "We will run a gradient descent optimisation on parameters $\\phi = (p_1, p_2)$."
   ]
  },
  {
   "cell_type": "code",
   "execution_count": 2,
   "metadata": {},
   "outputs": [
    {
     "name": "stdout",
     "output_type": "stream",
     "text": [
      "Using device: cpu\n",
      "p_1 = 0.6683186292648315\n",
      "p_2 = -0.6894093751907349\n"
     ]
    },
    {
     "name": "stderr",
     "output_type": "stream",
     "text": [
      "100%|██████████| 1000/1000 [00:06<00:00, 155.38it/s]"
     ]
    },
    {
     "name": "stdout",
     "output_type": "stream",
     "text": [
      "Failed to converge after 1000 steps. Last loss = 0.6725889444351196\n"
     ]
    },
    {
     "name": "stderr",
     "output_type": "stream",
     "text": [
      "\n"
     ]
    }
   ],
   "source": [
    "from models import GeneratorModel\n",
    "from groups import demo_S3\n",
    "from training import training_loop\n",
    "from loss import triple_loss_function, loss_function_generator\n",
    "import torch\n",
    "\n",
    "def extract_info(model):\n",
    "    irr, rel, uni = loss_function_generator(model)\n",
    "    return irr.item(), rel.item(), uni.item(), (irr + rel + uni).item()\n",
    "\n",
    "model = GeneratorModel(demo_S3, 1)\n",
    "print(f\"p_1 = {model.weights[0].item()}\")\n",
    "print(f\"p_2 = {model.weights[1].item()}\")\n",
    "\n",
    "opt = torch.optim.Adam(model.parameters(), lr=0.01, weight_decay=1e-4)\n",
    "scheduler = torch.optim.lr_scheduler.ReduceLROnPlateau(opt, 'min')\n",
    "losses, infos, converged = training_loop(model, opt, 1000, triple_loss_function, verbose=True, extract_loss_info=extract_info, loading_bar=True, scheduler=scheduler )\n"
   ]
  },
  {
   "cell_type": "code",
   "execution_count": 3,
   "metadata": {},
   "outputs": [
    {
     "data": {
      "image/png": "[encoded data removed]",
      "text/plain": [
       "<Figure size 640x480 with 1 Axes>"
      ]
     },
     "metadata": {},
     "output_type": "display_data"
    },
    {
     "name": "stdout",
     "output_type": "stream",
     "text": [
      "final weights:\n",
      "model((1, 2)) = tensor([[0.9872]], grad_fn=<SelectBackward0>)\n",
      "model((1, 3)) = tensor([[-0.9666]], grad_fn=<SelectBackward0>)\n",
      "\n"
     ]
    }
   ],
   "source": [
    "import matplotlib.pyplot as plt\n",
    "\n",
    "plt.plot(losses, label=\"Loss\")\n",
    "plt.title(\n",
    "    \"Final results: \\n\"\n",
    "    + f\"model({model.group.generators[0]}) = {round(model.weights[0].item(), 4)}\\n\"\n",
    "    + f\"model({model.group.generators[1]}) = {round(model.weights[1].item(), 4)}\"\n",
    ")\n",
    "plt.show()\n",
    "\n",
    "print(\"final weights:\")\n",
    "for i in range(2):\n",
    "    print(f\"model({model.group.generators[i]}) = {model.weights[i]}\")\n",
    "\n",
    "print(\"\")"
   ]
  },
  {
   "cell_type": "markdown",
   "metadata": {},
   "source": [
    "How different parameters affect convergence. We will thest the convergence of $\\hat \\rho _{\\phi = (p_1, p_2)}$, where $p_1, p_2 \\in (-2,2)$."
   ]
  },
  {
   "cell_type": "code",
   "execution_count": 4,
   "metadata": {},
   "outputs": [],
   "source": [
    "from grid import generate_grid\n",
    "\n",
    "# simulation info:\n",
    "# empirical data of simulations below show that opt usually converges on the steps between 150 and 220. We wil set number of opt step to 400.\n",
    "\n",
    "# TODO PREPARE DEMO DATA OF THIS\n",
    "# run_name = generate_grid(model, triple_loss_function, -2,2, 50,400)\n",
    "# print(run_name)\n",
    "\n",
    "# run: phi from -2 to 2, resolution is 50*50\n",
    "run_name = '2025-03-21 12:52:50'"
   ]
  },
  {
   "cell_type": "code",
   "execution_count": 5,
   "metadata": {},
   "outputs": [],
   "source": [
    "from tqdm import tqdm\n",
    "from grid import param_grid, param_list_to_tensor\n",
    "import numpy as np\n",
    "from matplotlib.colors import ListedColormap\n",
    "\n",
    "plt.rcParams['text.usetex'] = False\n",
    "\n",
    "\n",
    "def plot_results(\n",
    "    run_name: str,\n",
    "    min_param,\n",
    "    max_param,\n",
    "    grid_dimensions,\n",
    "    model,\n",
    "    eps=1e-3,\n",
    "):\n",
    "    \"\"\"\n",
    "    Plots convergence speeds based on p1 and p2\n",
    "    \"\"\"\n",
    "\n",
    "    params_shape = model.params_shape\n",
    "    n_params = n_params = model.weights.numel()\n",
    "\n",
    "  \n",
    "\n",
    "    # regenerate params\n",
    "    params = param_grid(min_param, max_param, grid_dimensions, n_params)\n",
    "    \n",
    "    # create 2d arrays, where elements are values with a certain color based on convergence\n",
    "\n",
    "    to_id = np.zeros((grid_dimensions, grid_dimensions))\n",
    "    to_sign = np.zeros((grid_dimensions, grid_dimensions))\n",
    "    both = np.zeros((grid_dimensions, grid_dimensions))\n",
    "\n",
    "    classes = np.zeros((grid_dimensions, grid_dimensions))\n",
    "\n",
    "    # load results \n",
    "    all_losses = np.load(f\"../results/{run_name}_losses.npy\")\n",
    "    all_weights = np.load(f\"../results/{run_name}_weights.npy\")\n",
    "    all_conv_results = np.load(f\"../results/{run_name}_conv_results.npy\")\n",
    "\n",
    "\n",
    "    \n",
    "    for index in tqdm(range(grid_dimensions ** n_params), total=grid_dimensions**n_params):\n",
    "        losses = all_losses[index]\n",
    "        weights = all_weights[index]\n",
    "        converged = all_conv_results[index]\n",
    "\n",
    "        row = (index // grid_dimensions)\n",
    "        column = (index % grid_dimensions)\n",
    "        # alternative: if(converged)... Ampak tkole maš lah kel umetno večji epsilon\n",
    "        if (losses < eps).any():\n",
    "            # this parameters converge\n",
    "            if (weights > 1).any():\n",
    "                # converge to id\n",
    "                classes[row][column] = 1 \n",
    "            else:\n",
    "                classes[row][column] = -1\n",
    "        else:\n",
    "            # diverges\n",
    "            classes[row][column] = 0\n",
    "\n",
    "\n",
    "\n",
    "\n",
    "\n",
    "\n",
    "    # plot all data\n",
    "    cmap = ListedColormap([\"red\", \"yellow\", \"blue\"]) \n",
    "\n",
    "    im = plt.imshow(classes, interpolation='none', cmap=cmap)\n",
    " \n",
    "    plt.title(\"Converence of different initial parameters\\n\" +\n",
    "                                        \"S3 -> R, model((1,2)) = p_1, model((1,3))=p_2\")\n",
    "    #\"Convergence of $\\text{model} = \\hat \\rho_{p_1, p_2} \\colon S_3 \\to \\mathbb R$\")\n",
    "    plt.xlabel(\"p_1\")\n",
    "    plt.ylabel(\"p_2\")\n",
    "\n",
    "    ax = plt.gca()\n",
    "\n",
    "\n",
    "    n_ticks = 7\n",
    "    ax.set_yticks([(i)*1/(n_ticks-1)*grid_dimensions for i in range(n_ticks)], labels=np.linspace(min_param, max_param, num=n_ticks).round(2))\n",
    "    ax.set_xticks([(i)*1/(n_ticks-1)*grid_dimensions for i in range(n_ticks)], np.linspace(min_param, max_param, num=n_ticks).round(2))\n",
    "    \n",
    "    cbar = plt.colorbar(im, ticks=[-1, 0, 1])\n",
    "    cbar.set_ticklabels([\"Sign\", \"Diverges\", \"Id\"])  \n",
    "\n",
    "    #plt.savefig(f\"../results/imshow/{run_name + \"_all_together\"}.png\")\n",
    "    plt.show()\n",
    "    plt.clf()\n",
    "\n",
    "\n"
   ]
  },
  {
   "cell_type": "code",
   "execution_count": 6,
   "metadata": {},
   "outputs": [],
   "source": [
    "#run_name='2025-03-21 13:21:52'\n",
    "# plot_results(run_name, -0.5,0.5,100,model)"
   ]
  },
  {
   "cell_type": "markdown",
   "metadata": {},
   "source": [
    "### $S_3$ to ortogonal group $\\hat \\rho \\colon S_3 \\to O(2)$\n",
    "\n",
    "(Parts of) the ortogonal group can be parametrimised by $R$ as\n",
    "$$\n",
    "a \\mapsto \\begin{bmatrix}\n",
    "a & -\\sqrt{1 - a^2} \\\\\n",
    "\\sqrt{1 - a^2} & -a \n",
    "\\end{bmatrix}.\n",
    "$$\n",
    "We again present $S_3$ with two generators and coexter relations as $S_3 = <s_1= (1,2), s_2 = (1,3) \\mid s_1^2,s_2^2, s_1 s_2 s_1 s_2 s_1 s_2 >$. \n",
    "\n",
    "Our model is given by \n",
    "$\n",
    "\\hat \\rho_{p, q}((1,2) ) = \\begin{bmatrix}\n",
    "p & -\\sqrt{1 - p^2} \\\\\n",
    "\\sqrt{1 - p^2} & -p\n",
    "\\end{bmatrix}\n",
    "$\n",
    "and \n",
    "$\n",
    "\\hat \\rho_{p, q}((1,3) ) = \\begin{bmatrix}\n",
    "q & -\\sqrt{1 - q^2} \\\\\n",
    "\\sqrt{1 - q^2} & -q \n",
    "\\end{bmatrix}\n",
    "$, where $p, q \\in \\mathbb R$.\n",
    "\n",
    "The only (up to isomorphism) two-dimensional irreducable representation $\\rho$ of S_3 is:\n",
    "$$\n",
    "\\rho((1,2) ) = \\begin{bmatrix}\n",
    "-\\frac{1}{2} & \\frac{\\sqrt{3}}{2} \\\\\n",
    "\\frac{\\sqrt{3}}{2} & \\frac{1}{2} \n",
    "\\end{bmatrix}, \\quad \n",
    "\\rho((1,3) ) = \\begin{bmatrix}\n",
    "-\\frac{1}{2} - i\\frac{\\sqrt(3)}{2} & -\\frac{1}{2} + i\\frac{\\sqrt(3)}{2} \\\\\n",
    "\\frac{1}{2} - i\\frac{\\sqrt(3)}{2} & -\\frac{1}{2} - i\\frac{\\sqrt(3)}{2}\n",
    "\\end{bmatrix},\n",
    "$$\n"
   ]
  },
  {
   "cell_type": "code",
   "execution_count": 7,
   "metadata": {},
   "outputs": [
    {
     "name": "stderr",
     "output_type": "stream",
     "text": [
      "100%|██████████| 10000/10000 [02:15<00:00, 73.73it/s]"
     ]
    },
    {
     "name": "stdout",
     "output_type": "stream",
     "text": [
      "Failed to converge after 10000 steps. Last loss = 0.6816062927246094\n"
     ]
    },
    {
     "name": "stderr",
     "output_type": "stream",
     "text": [
      "\n"
     ]
    }
   ],
   "source": [
    "from demo_S3_O2 import param_to_matrix as param_to_matrix_S3_O2\n",
    "from demo_S3_O2 import loss_function as loss_function_S3_O2\n",
    "\n",
    "model = GeneratorModel(demo_S3, dim=2, params_shape=torch.Size([2,1]) ,param_to_matrix=param_to_matrix_S3_O2)\n",
    "\n",
    "\n",
    "opt = torch.optim.Adam(model.parameters(), lr=0.001, weight_decay=1e-4)\n",
    "scheduler = torch.optim.lr_scheduler.ReduceLROnPlateau(opt, 'min')\n",
    "losses, converged = training_loop(model, opt, 10000, loss_function_S3_O2, verbose=True, loading_bar=True, scheduler=scheduler )\n"
   ]
  },
  {
   "cell_type": "code",
   "execution_count": 8,
   "metadata": {},
   "outputs": [
    {
     "data": {
      "text/plain": [
       "(tensor([[ 0.9357, -0.3527],\n",
       "         [ 0.3527, -0.9357]], grad_fn=<ViewBackward0>),\n",
       " tensor([[ 0.9399, -0.3416],\n",
       "         [ 0.3416, -0.9399]], grad_fn=<ViewBackward0>))"
      ]
     },
     "execution_count": 8,
     "metadata": {},
     "output_type": "execute_result"
    }
   ],
   "source": [
    "model([0]), model([1])"
   ]
  },
  {
   "cell_type": "code",
   "execution_count": 9,
   "metadata": {},
   "outputs": [
    {
     "data": {
      "text/plain": [
       "[<matplotlib.lines.Line2D at 0x766934119340>]"
      ]
     },
     "execution_count": 9,
     "metadata": {},
     "output_type": "execute_result"
    },
    {
     "data": {
      "image/png": "[encoded data removed]",
      "text/plain": [
       "<Figure size 640x480 with 1 Axes>"
      ]
     },
     "metadata": {},
     "output_type": "display_data"
    }
   ],
   "source": [
    "plt.plot(losses, label=\"Loss\")"
   ]
  },
  {
   "cell_type": "code",
   "execution_count": null,
   "metadata": {},
   "outputs": [],
   "source": []
  }
 ],
 "metadata": {
  "kernelspec": {
   "display_name": "venv",
   "language": "python",
   "name": "python3"
  },
  "language_info": {
   "codemirror_mode": {
    "name": "ipython",
    "version": 3
   },
   "file_extension": ".py",
   "mimetype": "text/x-python",
   "name": "python",
   "nbconvert_exporter": "python",
   "pygments_lexer": "ipython3",
   "version": "3.12.3"
  }
 },
 "nbformat": 4,
 "nbformat_minor": 2
}
