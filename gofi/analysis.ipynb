{
 "cells": [
  {
   "cell_type": "markdown",
   "metadata": {},
   "source": [
    "# Irreducable representations gradient search\n",
    "Iščem kandidate za boljše ime...\n",
    "We have a model \n",
    "$$\\phi  \\mapsto \\hat \\rho _\\phi : G \\to \\mathbb{F}^{\\text{dim} \\times \\text{dim}}$$\n",
    "of an unknown irreducable representation $ \\rho _\\phi : G \\to GL_{\\text{dim}}\\mathbb{F}$.\n",
    "\n",
    "Using gradient optimisation, we want to change the parameters $\\phi \\in \\mathbb F ^p$ of the model to minimize \n",
    "$(1 - ||\\chi_{\\hat \\rho_\\phi}||)^2$ and TODO. \n",
    "\n",
    "We study, how initial parameters $\\phi_0$ effect the convergence/divergence of the optimisation. \n",
    "In the future, we might focus on the gradient flow \n",
    "$$\n",
    "\\frac{d\\phi}{dt} = - \\nabla \\mathbf{L} (\\phi)\n",
    "$$"
   ]
  },
  {
   "cell_type": "markdown",
   "metadata": {},
   "source": [
    "### $\\rho \\colon S_3 \\to \\mathbb R$\n",
    "Two distinct real  1dim representations of $S_3$ are $id \\colon S_3 \\to \\mathbb R \\setminus \\{0\\}$ and $\\text{sign} \\colon S_3 \\to \\mathbb R\\setminus\\{0\\}$.\n",
    "\n",
    "TODO: h kateri konvergiramo?"
   ]
  },
  {
   "cell_type": "markdown",
   "metadata": {},
   "source": [
    "Lets first start with a random model $\\hat \\rho_\\phi \\colon S_3 \\to \\R$, defined with\n",
    "$\\hat \\rho_\\phi ((1,2)) = p_1$ and $\\hat \\rho_\\phi ((1,3)) = p_2$. \n",
    "We will run a gradient descent optimisation on parameters $\\phi = (p_1, p_2)$."
   ]
  },
  {
   "cell_type": "code",
   "execution_count": 1,
   "metadata": {},
   "outputs": [
    {
     "name": "stdout",
     "output_type": "stream",
     "text": [
      "Using device: cpu\n",
      "p_1 = -0.2847820520401001\n",
      "p_2 = -0.6654720306396484\n"
     ]
    }
   ],
   "source": [
    "from gofi.autograd.models import GeneratorModel\n",
    "from groups import demo_S3\n",
    "from gofi.autograd.training import training_loop\n",
    "from gofi.autograd.loss import triple_loss_function, loss_function_generator, relation_loss_generator\n",
    "import torch\n",
    "\n",
    "def extract_info(model):\n",
    "    irr, rel, uni = loss_function_generator(model)\n",
    "    return irr.item(), rel.item(), uni.item(), (irr + rel + uni).item()\n",
    "\n",
    "model = GeneratorModel(demo_S3, 1)\n",
    "print(f\"p_1 = {model.weights[0].item()}\")\n",
    "print(f\"p_2 = {model.weights[1].item()}\")\n",
    "\n",
    "opt = torch.optim.Adam(model.parameters(), lr=0.001, weight_decay=1e-4)\n",
    "scheduler = torch.optim.lr_scheduler.ReduceLROnPlateau(opt, 'min')\n",
    "#losses, infos, converged = training_loop(model, opt, 1000, triple_loss_function, verbose=True, extract_loss_info=extract_info, loading_bar=True, scheduler=scheduler )\n"
   ]
  },
  {
   "cell_type": "code",
   "execution_count": 2,
   "metadata": {},
   "outputs": [
    {
     "name": "stderr",
     "output_type": "stream",
     "text": [
      "100%|██████████| 1000/1000 [00:02<00:00, 427.37it/s]\n"
     ]
    },
    {
     "name": "stdout",
     "output_type": "stream",
     "text": [
      "Failed to converge after 1000 steps. Last loss = 0.6173293590545654\n"
     ]
    },
    {
     "name": "stderr",
     "output_type": "stream",
     "text": [
      "100%|██████████| 1000/1000 [00:01<00:00, 627.57it/s]\n"
     ]
    },
    {
     "name": "stdout",
     "output_type": "stream",
     "text": [
      "Failed to converge after 1000 steps. Last loss = 0.6177458763122559\n"
     ]
    },
    {
     "name": "stderr",
     "output_type": "stream",
     "text": [
      " 19%|█▉        | 191/1000 [00:00<00:01, 558.46it/s]\n"
     ]
    },
    {
     "name": "stdout",
     "output_type": "stream",
     "text": [
      "Converged at step 191\n"
     ]
    },
    {
     "name": "stderr",
     "output_type": "stream",
     "text": [
      "  4%|▍         | 39/1000 [00:00<00:02, 409.25it/s]\n"
     ]
    },
    {
     "name": "stdout",
     "output_type": "stream",
     "text": [
      "Converged at step 39\n"
     ]
    },
    {
     "name": "stderr",
     "output_type": "stream",
     "text": [
      "100%|██████████| 1000/1000 [00:01<00:00, 624.46it/s]\n"
     ]
    },
    {
     "name": "stdout",
     "output_type": "stream",
     "text": [
      "Failed to converge after 1000 steps. Last loss = 0.6173123717308044\n"
     ]
    },
    {
     "name": "stderr",
     "output_type": "stream",
     "text": [
      "  9%|▉         | 93/1000 [00:00<00:01, 542.36it/s]\n"
     ]
    },
    {
     "name": "stdout",
     "output_type": "stream",
     "text": [
      "Converged at step 93\n"
     ]
    },
    {
     "name": "stderr",
     "output_type": "stream",
     "text": [
      "100%|██████████| 1000/1000 [00:01<00:00, 605.23it/s]\n"
     ]
    },
    {
     "name": "stdout",
     "output_type": "stream",
     "text": [
      "Failed to converge after 1000 steps. Last loss = 0.617303729057312\n"
     ]
    },
    {
     "name": "stderr",
     "output_type": "stream",
     "text": [
      " 18%|█▊        | 178/1000 [00:00<00:01, 624.08it/s]\n"
     ]
    },
    {
     "name": "stdout",
     "output_type": "stream",
     "text": [
      "Converged at step 178\n"
     ]
    },
    {
     "name": "stderr",
     "output_type": "stream",
     "text": [
      "100%|██████████| 1000/1000 [00:01<00:00, 647.26it/s]\n"
     ]
    },
    {
     "name": "stdout",
     "output_type": "stream",
     "text": [
      "Failed to converge after 1000 steps. Last loss = 0.6174022555351257\n"
     ]
    },
    {
     "name": "stderr",
     "output_type": "stream",
     "text": [
      "100%|██████████| 1000/1000 [00:01<00:00, 617.37it/s]\n"
     ]
    },
    {
     "name": "stdout",
     "output_type": "stream",
     "text": [
      "Failed to converge after 1000 steps. Last loss = 0.6383862495422363\n"
     ]
    },
    {
     "name": "stderr",
     "output_type": "stream",
     "text": [
      " 11%|█         | 108/1000 [00:00<00:01, 586.07it/s]\n"
     ]
    },
    {
     "name": "stdout",
     "output_type": "stream",
     "text": [
      "Converged at step 108\n"
     ]
    },
    {
     "name": "stderr",
     "output_type": "stream",
     "text": [
      "100%|██████████| 1000/1000 [00:01<00:00, 607.10it/s]\n"
     ]
    },
    {
     "name": "stdout",
     "output_type": "stream",
     "text": [
      "Failed to converge after 1000 steps. Last loss = 0.6174808740615845\n"
     ]
    },
    {
     "name": "stderr",
     "output_type": "stream",
     "text": [
      "100%|██████████| 1000/1000 [00:01<00:00, 611.41it/s]\n"
     ]
    },
    {
     "name": "stdout",
     "output_type": "stream",
     "text": [
      "Failed to converge after 1000 steps. Last loss = 0.004049340728670359\n"
     ]
    },
    {
     "name": "stderr",
     "output_type": "stream",
     "text": [
      "100%|██████████| 1000/1000 [00:01<00:00, 655.14it/s]\n"
     ]
    },
    {
     "name": "stdout",
     "output_type": "stream",
     "text": [
      "Failed to converge after 1000 steps. Last loss = 0.617434561252594\n"
     ]
    },
    {
     "name": "stderr",
     "output_type": "stream",
     "text": [
      "100%|██████████| 1000/1000 [00:01<00:00, 636.13it/s]\n"
     ]
    },
    {
     "name": "stdout",
     "output_type": "stream",
     "text": [
      "Failed to converge after 1000 steps. Last loss = 0.6172934174537659\n"
     ]
    },
    {
     "name": "stderr",
     "output_type": "stream",
     "text": [
      " 10%|█         | 105/1000 [00:00<00:01, 586.22it/s]\n"
     ]
    },
    {
     "name": "stdout",
     "output_type": "stream",
     "text": [
      "Converged at step 105\n"
     ]
    },
    {
     "name": "stderr",
     "output_type": "stream",
     "text": [
      "100%|██████████| 1000/1000 [00:01<00:00, 618.24it/s]\n"
     ]
    },
    {
     "name": "stdout",
     "output_type": "stream",
     "text": [
      "Failed to converge after 1000 steps. Last loss = 0.6238355040550232\n"
     ]
    },
    {
     "name": "stderr",
     "output_type": "stream",
     "text": [
      "100%|██████████| 1000/1000 [00:01<00:00, 615.79it/s]\n"
     ]
    },
    {
     "name": "stdout",
     "output_type": "stream",
     "text": [
      "Failed to converge after 1000 steps. Last loss = 0.6219813823699951\n"
     ]
    },
    {
     "name": "stderr",
     "output_type": "stream",
     "text": [
      "100%|██████████| 1000/1000 [00:01<00:00, 641.23it/s]\n"
     ]
    },
    {
     "name": "stdout",
     "output_type": "stream",
     "text": [
      "Failed to converge after 1000 steps. Last loss = 0.02113761566579342\n"
     ]
    },
    {
     "name": "stderr",
     "output_type": "stream",
     "text": [
      "100%|██████████| 1000/1000 [00:01<00:00, 643.14it/s]\n"
     ]
    },
    {
     "name": "stdout",
     "output_type": "stream",
     "text": [
      "Failed to converge after 1000 steps. Last loss = 0.6175009608268738\n"
     ]
    },
    {
     "name": "stderr",
     "output_type": "stream",
     "text": [
      "100%|██████████| 1000/1000 [00:01<00:00, 636.97it/s]\n"
     ]
    },
    {
     "name": "stdout",
     "output_type": "stream",
     "text": [
      "Failed to converge after 1000 steps. Last loss = 0.6230767369270325\n"
     ]
    },
    {
     "name": "stderr",
     "output_type": "stream",
     "text": [
      "100%|██████████| 1000/1000 [00:01<00:00, 634.41it/s]\n"
     ]
    },
    {
     "name": "stdout",
     "output_type": "stream",
     "text": [
      "Failed to converge after 1000 steps. Last loss = 0.01706508733332157\n"
     ]
    },
    {
     "name": "stderr",
     "output_type": "stream",
     "text": [
      " 10%|▉         | 95/1000 [00:00<00:02, 444.00it/s]\n"
     ]
    },
    {
     "name": "stdout",
     "output_type": "stream",
     "text": [
      "Converged at step 95\n"
     ]
    },
    {
     "name": "stderr",
     "output_type": "stream",
     "text": [
      " 10%|█         | 104/1000 [00:00<00:01, 483.65it/s]\n"
     ]
    },
    {
     "name": "stdout",
     "output_type": "stream",
     "text": [
      "Converged at step 104\n"
     ]
    },
    {
     "name": "stderr",
     "output_type": "stream",
     "text": [
      "  8%|▊         | 81/1000 [00:00<00:01, 480.75it/s]\n"
     ]
    },
    {
     "name": "stdout",
     "output_type": "stream",
     "text": [
      "Converged at step 81\n"
     ]
    },
    {
     "name": "stderr",
     "output_type": "stream",
     "text": [
      "100%|██████████| 1000/1000 [00:01<00:00, 620.47it/s]\n"
     ]
    },
    {
     "name": "stdout",
     "output_type": "stream",
     "text": [
      "Failed to converge after 1000 steps. Last loss = 0.6173049807548523\n"
     ]
    },
    {
     "name": "stderr",
     "output_type": "stream",
     "text": [
      "100%|██████████| 1000/1000 [00:01<00:00, 614.56it/s]\n"
     ]
    },
    {
     "name": "stdout",
     "output_type": "stream",
     "text": [
      "Failed to converge after 1000 steps. Last loss = 0.04346466064453125\n"
     ]
    },
    {
     "name": "stderr",
     "output_type": "stream",
     "text": [
      "100%|██████████| 1000/1000 [00:01<00:00, 637.49it/s]\n"
     ]
    },
    {
     "name": "stdout",
     "output_type": "stream",
     "text": [
      "Failed to converge after 1000 steps. Last loss = 0.6173054575920105\n"
     ]
    },
    {
     "name": "stderr",
     "output_type": "stream",
     "text": [
      "100%|██████████| 1000/1000 [00:01<00:00, 610.81it/s]\n"
     ]
    },
    {
     "name": "stdout",
     "output_type": "stream",
     "text": [
      "Failed to converge after 1000 steps. Last loss = 0.022004365921020508\n"
     ]
    },
    {
     "name": "stderr",
     "output_type": "stream",
     "text": [
      "  7%|▋         | 70/1000 [00:00<00:01, 587.24it/s]\n"
     ]
    },
    {
     "name": "stdout",
     "output_type": "stream",
     "text": [
      "Converged at step 70\n"
     ]
    },
    {
     "name": "stderr",
     "output_type": "stream",
     "text": [
      "100%|██████████| 1000/1000 [00:01<00:00, 637.58it/s]\n"
     ]
    },
    {
     "name": "stdout",
     "output_type": "stream",
     "text": [
      "Failed to converge after 1000 steps. Last loss = 0.012211720459163189\n"
     ]
    },
    {
     "name": "stderr",
     "output_type": "stream",
     "text": [
      "100%|██████████| 1000/1000 [00:01<00:00, 651.44it/s]\n"
     ]
    },
    {
     "name": "stdout",
     "output_type": "stream",
     "text": [
      "Failed to converge after 1000 steps. Last loss = 0.6367466449737549\n"
     ]
    },
    {
     "name": "stderr",
     "output_type": "stream",
     "text": [
      "100%|██████████| 1000/1000 [00:01<00:00, 628.10it/s]\n"
     ]
    },
    {
     "name": "stdout",
     "output_type": "stream",
     "text": [
      "Failed to converge after 1000 steps. Last loss = 0.6197659373283386\n"
     ]
    },
    {
     "name": "stderr",
     "output_type": "stream",
     "text": [
      "100%|██████████| 1000/1000 [00:01<00:00, 638.00it/s]\n"
     ]
    },
    {
     "name": "stdout",
     "output_type": "stream",
     "text": [
      "Failed to converge after 1000 steps. Last loss = 0.025462886318564415\n"
     ]
    },
    {
     "name": "stderr",
     "output_type": "stream",
     "text": [
      "100%|██████████| 1000/1000 [00:01<00:00, 554.23it/s]\n"
     ]
    },
    {
     "name": "stdout",
     "output_type": "stream",
     "text": [
      "Failed to converge after 1000 steps. Last loss = 0.0014591614017263055\n"
     ]
    },
    {
     "name": "stderr",
     "output_type": "stream",
     "text": [
      "100%|██████████| 1000/1000 [00:01<00:00, 628.90it/s]\n"
     ]
    },
    {
     "name": "stdout",
     "output_type": "stream",
     "text": [
      "Failed to converge after 1000 steps. Last loss = 0.6175454258918762\n"
     ]
    },
    {
     "name": "stderr",
     "output_type": "stream",
     "text": [
      "100%|██████████| 1000/1000 [00:01<00:00, 575.56it/s]\n"
     ]
    },
    {
     "name": "stdout",
     "output_type": "stream",
     "text": [
      "Failed to converge after 1000 steps. Last loss = 0.6236162185668945\n"
     ]
    },
    {
     "name": "stderr",
     "output_type": "stream",
     "text": [
      "100%|██████████| 1000/1000 [00:01<00:00, 583.47it/s]\n"
     ]
    },
    {
     "name": "stdout",
     "output_type": "stream",
     "text": [
      "Failed to converge after 1000 steps. Last loss = 0.6175324320793152\n"
     ]
    },
    {
     "name": "stderr",
     "output_type": "stream",
     "text": [
      "100%|██████████| 1000/1000 [00:01<00:00, 609.11it/s]\n"
     ]
    },
    {
     "name": "stdout",
     "output_type": "stream",
     "text": [
      "Failed to converge after 1000 steps. Last loss = 0.6177014112472534\n"
     ]
    },
    {
     "name": "stderr",
     "output_type": "stream",
     "text": [
      "100%|██████████| 1000/1000 [00:01<00:00, 614.12it/s]\n"
     ]
    },
    {
     "name": "stdout",
     "output_type": "stream",
     "text": [
      "Failed to converge after 1000 steps. Last loss = 0.6173784136772156\n"
     ]
    }
   ],
   "source": [
    "# draw differet trajectories\n",
    "n_samples = 40\n",
    "\n",
    "def extract_parameters(model):\n",
    "    return (model.weights[0].item(), model.weights[1].item())\n",
    "results = []\n",
    "for i in range(n_samples):\n",
    "    # params: \n",
    "    params = torch.rand([2,1,1])*4 -2\n",
    "    model = GeneratorModel(demo_S3, 1)\n",
    "    opt = torch.optim.Adam(model.parameters(), lr=0.01, weight_decay=1e-4)\n",
    "    scheduler = torch.optim.lr_scheduler.ReduceLROnPlateau(opt, 'min')\n",
    "    # losses, infos, converged = training_loop(model, opt, 1000, triple_loss_function, verbose=True, extract_loss_info=extract_parameters, loading_bar=True, scheduler=scheduler )\n",
    "    losses, infos, converged = training_loop(model, opt, 1000, relation_loss_generator, verbose=True, extract_loss_info=extract_parameters, loading_bar=True, scheduler=scheduler )\n",
    "    results.append((losses, infos, converged))\n"
   ]
  },
  {
   "cell_type": "code",
   "execution_count": 3,
   "metadata": {},
   "outputs": [
    {
     "data": {
      "image/png": "[encoded data removed]",
      "text/plain": [
       "<Figure size 640x480 with 1 Axes>"
      ]
     },
     "metadata": {},
     "output_type": "display_data"
    }
   ],
   "source": [
    "import matplotlib.pyplot as plt\n",
    "\n",
    "#plt.title(\"Solutions with different initial parameters\")\n",
    "plt.title(\"Trajektorija učenja \") \n",
    "plt.xlabel(\"$\\\\hat\\\\rho((1,2))$\", usetex=True)\n",
    "plt.ylabel(\"$\\\\hat\\\\rho((1,3))$\", usetex=True)\n",
    "\n",
    "\n",
    "losses, infos, converged = results[0] \n",
    "xs, ys = zip(* infos)\n",
    "plt.plot(xs, ys)\n",
    "plt.plot(xs[0], ys[0], 'xb', markersize=3)\n",
    "plt.plot(xs[0], ys[0], '.k', markersize=4)\n",
    "\n",
    "\n",
    "plt.plot(1,1, 'or', markersize=6, label=\"identity\")\n",
    "plt.plot(-1,-1, 'og', markersize=6, label=\"sign\")\n",
    "\n",
    "plt.legend()\n",
    "plt.show()"
   ]
  },
  {
   "cell_type": "code",
   "execution_count": 9,
   "metadata": {},
   "outputs": [
    {
     "data": {
      "image/png": "[encoded data removed]",
      "text/plain": [
       "<Figure size 640x480 with 1 Axes>"
      ]
     },
     "metadata": {},
     "output_type": "display_data"
    }
   ],
   "source": [
    "import matplotlib.pyplot as plt\n",
    "\n",
    "plt.title(\"Trajektorije učenja z različnimi začetnimi parametri\") \n",
    "plt.xlabel(\"$\\\\hat\\\\rho((1,2))$\", usetex=True)\n",
    "plt.ylabel(\"$\\\\hat\\\\rho((1,3))$\", usetex=True)\n",
    "\n",
    "\n",
    "\n",
    "\n",
    "for losses, infos, converged in results:\n",
    "    xs, ys = zip(* infos)\n",
    "    plt.plot(xs, ys)\n",
    "    plt.plot(xs[0], ys[0], 'xb', markersize=3)\n",
    "    plt.plot(xs[0], ys[0], '.k', markersize=4)\n",
    "    \n",
    "\n",
    "plt.plot(1,1, 'or', markersize=6, label=\"id\")\n",
    "plt.plot(-1,-1, 'og', markersize=6, label=\"sign\")\n",
    "\n",
    "plt.legend()\n",
    "plt.savefig(\"trajektorije_S3_to_R.pdf\", bbox_inches='tight')\n",
    "plt.show()\n"
   ]
  },
  {
   "cell_type": "code",
   "execution_count": 5,
   "metadata": {},
   "outputs": [
    {
     "data": {
      "image/png": "[encoded data removed]",
      "text/plain": [
       "<Figure size 640x480 with 1 Axes>"
      ]
     },
     "metadata": {},
     "output_type": "display_data"
    },
    {
     "name": "stdout",
     "output_type": "stream",
     "text": [
      "\n"
     ]
    }
   ],
   "source": [
    "import matplotlib.pyplot as plt\n",
    "\n",
    "plt.plot(losses, label=\"Loss\")\n",
    "plt.title(\n",
    "    \"Final model:\\n\"\n",
    "    +\"$\\\\hat \\\\rho  \\\\colon S_3=<(1,2), (1,3)> \\\\to  R$ \\n\" \n",
    "          \n",
    "    #\"$\\hat\\rho : S_3=<(1,2), (1,3)> \\to \\mathbb R$ \\n\"\n",
    "    + \"$\\\\hat\\\\rho((1,2)) = \" + str(round(model.weights[0].item(), 4)) + \"\\\\quad $\"\n",
    "    + \"$\\\\hat\\\\rho((1,3)) = \" +str(round(model.weights[1].item(), 4)) + \"$\"\n",
    "    , usetex=True\n",
    ")\n",
    "\n",
    "plt.xlabel(\"Time\")\n",
    "plt.ylabel(\"Loss\")\n",
    "\n",
    "plt.show()\n",
    "\n",
    "\n",
    "\n",
    "print(\"\")"
   ]
  },
  {
   "cell_type": "markdown",
   "metadata": {},
   "source": [
    "How different parameters affect convergence. We will thest the convergence of $\\hat \\rho _{\\phi = (p_1, p_2)}$, where $p_1, p_2 \\in (-2,2)$."
   ]
  },
  {
   "cell_type": "code",
   "execution_count": 6,
   "metadata": {},
   "outputs": [
    {
     "ename": "ModuleNotFoundError",
     "evalue": "No module named 'grid'",
     "output_type": "error",
     "traceback": [
      "\u001b[0;31m---------------------------------------------------------------------------\u001b[0m",
      "\u001b[0;31mModuleNotFoundError\u001b[0m                       Traceback (most recent call last)",
      "Cell \u001b[0;32mIn[6], line 1\u001b[0m\n\u001b[0;32m----> 1\u001b[0m \u001b[38;5;28;01mfrom\u001b[39;00m \u001b[38;5;21;01mgrid\u001b[39;00m \u001b[38;5;28;01mimport\u001b[39;00m generate_grid\n\u001b[1;32m      3\u001b[0m \u001b[38;5;66;03m# simulation info:\u001b[39;00m\n\u001b[1;32m      4\u001b[0m \u001b[38;5;66;03m# empirical data of simulations below show that opt usually converges on the steps between 150 and 220. We wil set number of opt step to 400.\u001b[39;00m\n\u001b[1;32m      5\u001b[0m \n\u001b[0;32m   (...)\u001b[0m\n\u001b[1;32m      9\u001b[0m \n\u001b[1;32m     10\u001b[0m \u001b[38;5;66;03m# run: phi from -2 to 2, resolution is 50*50\u001b[39;00m\n\u001b[1;32m     11\u001b[0m run_name \u001b[38;5;241m=\u001b[39m \u001b[38;5;124m'\u001b[39m\u001b[38;5;124m2025-03-21 12:52:50\u001b[39m\u001b[38;5;124m'\u001b[39m\n",
      "\u001b[0;31mModuleNotFoundError\u001b[0m: No module named 'grid'"
     ]
    }
   ],
   "source": [
    "from grid import generate_grid\n",
    "\n",
    "# simulation info:\n",
    "# empirical data of simulations below show that opt usually converges on the steps between 150 and 220. We wil set number of opt step to 400.\n",
    "\n",
    "# TODO PREPARE DEMO DATA OF THIS\n",
    "# run_name = generate_grid(model, triple_loss_function, -2,2, 50,400)\n",
    "# print(run_name)\n",
    "\n",
    "# run: phi from -2 to 2, resolution is 50*50\n",
    "run_name = '2025-03-21 12:52:50'"
   ]
  },
  {
   "cell_type": "code",
   "execution_count": null,
   "metadata": {},
   "outputs": [],
   "source": [
    "from tqdm import tqdm\n",
    "from grid import param_grid, param_list_to_tensor\n",
    "import numpy as np\n",
    "from matplotlib.colors import ListedColormap\n",
    "\n",
    "plt.rcParams['text.usetex'] = False\n",
    "\n",
    "\n",
    "def plot_results(\n",
    "    run_name: str,\n",
    "    min_param,\n",
    "    max_param,\n",
    "    grid_dimensions,\n",
    "    model,\n",
    "    eps=1e-3,\n",
    "):\n",
    "    \"\"\"\n",
    "    Plots convergence speeds based on p1 and p2\n",
    "    \"\"\"\n",
    "\n",
    "    params_shape = model.params_shape\n",
    "    n_params = n_params = model.weights.numel()\n",
    "\n",
    "  \n",
    "\n",
    "    # regenerate params\n",
    "    params = param_grid(min_param, max_param, grid_dimensions, n_params)\n",
    "    \n",
    "    # create 2d arrays, where elements are values with a certain color based on convergence\n",
    "\n",
    "    to_id = np.zeros((grid_dimensions, grid_dimensions))\n",
    "    to_sign = np.zeros((grid_dimensions, grid_dimensions))\n",
    "    both = np.zeros((grid_dimensions, grid_dimensions))\n",
    "\n",
    "    classes = np.zeros((grid_dimensions, grid_dimensions))\n",
    "\n",
    "    # load results \n",
    "    all_losses = np.load(f\"../results/{run_name}_losses.npy\")\n",
    "    all_weights = np.load(f\"../results/{run_name}_weights.npy\")\n",
    "    all_conv_results = np.load(f\"../results/{run_name}_conv_results.npy\")\n",
    "\n",
    "\n",
    "    \n",
    "    for index in tqdm(range(grid_dimensions ** n_params), total=grid_dimensions**n_params):\n",
    "        losses = all_losses[index]\n",
    "        weights = all_weights[index]\n",
    "        converged = all_conv_results[index]\n",
    "\n",
    "        row = (index // grid_dimensions)\n",
    "        column = (index % grid_dimensions)\n",
    "        # alternative: if(converged)... Ampak tkole maš lah kel umetno večji epsilon\n",
    "        if (losses < eps).any():\n",
    "            # this parameters converge\n",
    "            if (weights > 1).any():\n",
    "                # converge to id\n",
    "                classes[row][column] = 1 \n",
    "            else:\n",
    "                classes[row][column] = -1\n",
    "        else:\n",
    "            # diverges\n",
    "            classes[row][column] = 0\n",
    "\n",
    "\n",
    "\n",
    "\n",
    "\n",
    "\n",
    "    # plot all data\n",
    "    cmap = ListedColormap([\"red\", \"yellow\", \"blue\"]) \n",
    "\n",
    "    im = plt.imshow(classes, interpolation='none', cmap=cmap)\n",
    " \n",
    "    plt.title(\"Converence of different initial parameters\\n\" +\n",
    "                                        \"S3 -> R, model((1,2)) = p_1, model((1,3))=p_2\")\n",
    "    #\"Convergence of $\\text{model} = \\hat \\rho_{p_1, p_2} \\colon S_3 \\to \\mathbb R$\")\n",
    "    plt.xlabel(\"p_1\")\n",
    "    plt.ylabel(\"p_2\")\n",
    "\n",
    "    ax = plt.gca()\n",
    "\n",
    "\n",
    "    n_ticks = 7\n",
    "    ax.set_yticks([(i)*1/(n_ticks-1)*grid_dimensions for i in range(n_ticks)], labels=np.linspace(min_param, max_param, num=n_ticks).round(2))\n",
    "    ax.set_xticks([(i)*1/(n_ticks-1)*grid_dimensions for i in range(n_ticks)], np.linspace(min_param, max_param, num=n_ticks).round(2))\n",
    "    \n",
    "    cbar = plt.colorbar(im, ticks=[-1, 0, 1])\n",
    "    cbar.set_ticklabels([\"Sign\", \"Diverges\", \"Id\"])  \n",
    "\n",
    "    #plt.savefig(f\"../results/imshow/{run_name + \"_all_together\"}.png\")\n",
    "    plt.show()\n",
    "    plt.clf()\n",
    "\n",
    "\n"
   ]
  },
  {
   "cell_type": "code",
   "execution_count": null,
   "metadata": {},
   "outputs": [],
   "source": [
    "#run_name='2025-03-21 13:21:52'\n",
    "# plot_results(run_name, -0.5,0.5,100,model)"
   ]
  },
  {
   "cell_type": "markdown",
   "metadata": {},
   "source": [
    "### $S_3$ to ortogonal group $\\hat \\rho \\colon S_3 \\to O(2)$\n",
    "\n",
    "(Parts of) the ortogonal group can be parametrimised by $R$ as\n",
    "$$\n",
    "a \\mapsto \\begin{bmatrix}\n",
    "a & -\\sqrt{1 - a^2} \\\\\n",
    "\\sqrt{1 - a^2} & -a \n",
    "\\end{bmatrix}.\n",
    "$$\n",
    "We again present $S_3$ with two generators and coexter relations as $S_3 = <s_1= (1,2), s_2 = (1,3) \\mid s_1^2,s_2^2, s_1 s_2 s_1 s_2 s_1 s_2 >$. \n",
    "\n",
    "Our model is given by \n",
    "$\n",
    "\\hat \\rho_{p, q}((1,2) ) = \\begin{bmatrix}\n",
    "p & -\\sqrt{1 - p^2} \\\\\n",
    "\\sqrt{1 - p^2} & -p\n",
    "\\end{bmatrix}\n",
    "$\n",
    "and \n",
    "$\n",
    "\\hat \\rho_{p, q}((1,3) ) = \\begin{bmatrix}\n",
    "q & -\\sqrt{1 - q^2} \\\\\n",
    "\\sqrt{1 - q^2} & -q \n",
    "\\end{bmatrix}\n",
    "$, where $p, q \\in \\mathbb R$.\n",
    "\n",
    "The only (up to isomorphism) two-dimensional irreducable representation $\\rho$ of S_3 is:\n",
    "$$\n",
    "\\rho((1,2) ) = \\begin{bmatrix}\n",
    "-\\frac{1}{2} & \\frac{\\sqrt{3}}{2} \\\\\n",
    "\\frac{\\sqrt{3}}{2} & \\frac{1}{2} \n",
    "\\end{bmatrix}, \\quad \n",
    "\\rho((1,3) ) = \\begin{bmatrix}\n",
    "-\\frac{1}{2} - i\\frac{\\sqrt(3)}{2} & -\\frac{1}{2} + i\\frac{\\sqrt(3)}{2} \\\\\n",
    "\\frac{1}{2} - i\\frac{\\sqrt(3)}{2} & -\\frac{1}{2} - i\\frac{\\sqrt(3)}{2}\n",
    "\\end{bmatrix},\n",
    "$$\n"
   ]
  },
  {
   "cell_type": "code",
   "execution_count": null,
   "metadata": {},
   "outputs": [
    {
     "name": "stderr",
     "output_type": "stream",
     "text": [
      "100%|██████████| 10000/10000 [02:15<00:00, 73.73it/s]"
     ]
    },
    {
     "name": "stdout",
     "output_type": "stream",
     "text": [
      "Failed to converge after 10000 steps. Last loss = 0.6816062927246094\n"
     ]
    },
    {
     "name": "stderr",
     "output_type": "stream",
     "text": [
      "\n"
     ]
    }
   ],
   "source": [
    "from demo_S3_O2 import param_to_matrix as param_to_matrix_S3_O2\n",
    "from demo_S3_O2 import loss_function as loss_function_S3_O2\n",
    "\n",
    "model = GeneratorModel(demo_S3, dim=2, params_shape=torch.Size([2,1]) ,param_to_matrix=param_to_matrix_S3_O2)\n",
    "\n",
    "\n",
    "opt = torch.optim.Adam(model.parameters(), lr=0.001, weight_decay=1e-4)\n",
    "scheduler = torch.optim.lr_scheduler.ReduceLROnPlateau(opt, 'min')\n",
    "losses, converged = training_loop(model, opt, 10000, loss_function_S3_O2, verbose=True, loading_bar=True, scheduler=scheduler )\n"
   ]
  },
  {
   "cell_type": "code",
   "execution_count": null,
   "metadata": {},
   "outputs": [
    {
     "data": {
      "text/plain": [
       "(tensor([[ 0.9357, -0.3527],\n",
       "         [ 0.3527, -0.9357]], grad_fn=<ViewBackward0>),\n",
       " tensor([[ 0.9399, -0.3416],\n",
       "         [ 0.3416, -0.9399]], grad_fn=<ViewBackward0>))"
      ]
     },
     "execution_count": 8,
     "metadata": {},
     "output_type": "execute_result"
    }
   ],
   "source": [
    "model([0]), model([1])"
   ]
  },
  {
   "cell_type": "code",
   "execution_count": null,
   "metadata": {},
   "outputs": [
    {
     "data": {
      "text/plain": [
       "[<matplotlib.lines.Line2D at 0x766934119340>]"
      ]
     },
     "execution_count": 9,
     "metadata": {},
     "output_type": "execute_result"
    },
    {
     "data": {
      "image/png": "[encoded data removed]",
      "text/plain": [
       "<Figure size 640x480 with 1 Axes>"
      ]
     },
     "metadata": {},
     "output_type": "display_data"
    }
   ],
   "source": [
    "plt.plot(losses, label=\"Loss\")"
   ]
  },
  {
   "cell_type": "code",
   "execution_count": null,
   "metadata": {},
   "outputs": [],
   "source": []
  }
 ],
 "metadata": {
  "kernelspec": {
   "display_name": "venv",
   "language": "python",
   "name": "python3"
  },
  "language_info": {
   "codemirror_mode": {
    "name": "ipython",
    "version": 3
   },
   "file_extension": ".py",
   "mimetype": "text/x-python",
   "name": "python",
   "nbconvert_exporter": "python",
   "pygments_lexer": "ipython3",
   "version": "3.12.3"
  }
 },
 "nbformat": 4,
 "nbformat_minor": 2
}
