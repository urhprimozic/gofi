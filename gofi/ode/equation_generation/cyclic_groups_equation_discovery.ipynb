{
 "cells": [
  {
   "cell_type": "code",
   "execution_count": 6,
   "id": "ee1bb177",
   "metadata": {},
   "outputs": [],
   "source": [
    "from gofi.ode.equation_generation.cyclic_groups import loss_rel, loss_rel_x, loss_rel_y\n",
    "\n",
    "from scipy.integrate import solve_ivp\n",
    "import matplotlib.pyplot as plt\n",
    "import numpy as np\n",
    "from gofi.plot.colors import cmap_blue_orange_blackless\n",
    "# sollve d(x,y)/dt = -gradL\n",
    "def neg_grad(t, z):\n",
    "    x, y = z\n",
    "    return -loss_rel_x(x, y), -loss_rel_y(x, y)\n",
    "\n",
    "t_max =1\n",
    "\n",
    "\n",
    "solution = solve_ivp(neg_grad, (0, t_max), (1,1))\n",
    "# get coordinates\n",
    "x = solution.y[0]\n",
    "y = solution.y[1]\n",
    "\n",
    "# get equaiton"
   ]
  },
  {
   "cell_type": "code",
   "execution_count": 7,
   "id": "37d7744a",
   "metadata": {},
   "outputs": [
    {
     "name": "stdout",
     "output_type": "stream",
     "text": [
      "[juliapkg] Found dependencies: /home/urh/Documents/fmf/magistrska-naloga/magisterij/venv/lib/python3.12/site-packages/pysr/juliapkg.json\n",
      "[juliapkg] Found dependencies: /home/urh/Documents/fmf/magistrska-naloga/magisterij/venv/lib/python3.12/site-packages/juliacall/juliapkg.json\n",
      "[juliapkg] Found dependencies: /home/urh/Documents/fmf/magistrska-naloga/magisterij/venv/lib/python3.12/site-packages/juliapkg/juliapkg.json\n",
      "[juliapkg] Locating Julia =1.10.0, ^1.10.3\n"
     ]
    },
    {
     "ename": "Exception",
     "evalue": "no version of Julia is compatible with =1.10.0, ^1.10.3 - perhaps you need to update JuliaUp",
     "output_type": "error",
     "traceback": [
      "\u001b[0;31m---------------------------------------------------------------------------\u001b[0m",
      "\u001b[0;31mException\u001b[0m                                 Traceback (most recent call last)",
      "Cell \u001b[0;32mIn[7], line 1\u001b[0m\n\u001b[0;32m----> 1\u001b[0m \u001b[38;5;28;01mfrom\u001b[39;00m \u001b[38;5;21;01mpysr\u001b[39;00m \u001b[38;5;28;01mimport\u001b[39;00m PySRRegressor\n\u001b[1;32m      3\u001b[0m model \u001b[38;5;241m=\u001b[39m PySRRegressor(\n\u001b[1;32m      4\u001b[0m     maxsize\u001b[38;5;241m=\u001b[39m\u001b[38;5;241m20\u001b[39m,\n\u001b[1;32m      5\u001b[0m     niterations\u001b[38;5;241m=\u001b[39m\u001b[38;5;241m40\u001b[39m,  \u001b[38;5;66;03m# < Increase me for better results\u001b[39;00m\n\u001b[0;32m   (...)\u001b[0m\n\u001b[1;32m     17\u001b[0m     \u001b[38;5;66;03m# ^ Custom loss function (julia syntax)\u001b[39;00m\n\u001b[1;32m     18\u001b[0m )\n",
      "File \u001b[0;32m~/Documents/fmf/magistrska-naloga/magisterij/venv/lib/python3.12/site-packages/pysr/__init__.py:20\u001b[0m\n\u001b[1;32m     15\u001b[0m     beartype_this_package()\n\u001b[1;32m     17\u001b[0m \u001b[38;5;66;03m# This must be imported as early as possible to prevent\u001b[39;00m\n\u001b[1;32m     18\u001b[0m \u001b[38;5;66;03m# library linking issues caused by numpy/pytorch/etc. importing\u001b[39;00m\n\u001b[1;32m     19\u001b[0m \u001b[38;5;66;03m# old libraries:\u001b[39;00m\n\u001b[0;32m---> 20\u001b[0m \u001b[38;5;28;01mfrom\u001b[39;00m \u001b[38;5;21;01m.\u001b[39;00m\u001b[38;5;21;01mjulia_import\u001b[39;00m \u001b[38;5;28;01mimport\u001b[39;00m jl, SymbolicRegression  \u001b[38;5;66;03m# isort:skip\u001b[39;00m\n\u001b[1;32m     22\u001b[0m \u001b[38;5;66;03m# Get the version using importlib.metadata (Python >= 3.8 is required):\u001b[39;00m\n\u001b[1;32m     23\u001b[0m \u001b[38;5;28;01mfrom\u001b[39;00m \u001b[38;5;21;01mimportlib\u001b[39;00m\u001b[38;5;21;01m.\u001b[39;00m\u001b[38;5;21;01mmetadata\u001b[39;00m \u001b[38;5;28;01mimport\u001b[39;00m PackageNotFoundError, version\n",
      "File \u001b[0;32m~/Documents/fmf/magistrska-naloga/magisterij/venv/lib/python3.12/site-packages/pysr/julia_import.py:52\u001b[0m\n\u001b[1;32m     48\u001b[0m \u001b[38;5;28;01mdef\u001b[39;00m \u001b[38;5;21m_import_juliacall\u001b[39m():\n\u001b[1;32m     49\u001b[0m     \u001b[38;5;28;01mimport\u001b[39;00m \u001b[38;5;21;01mjuliacall\u001b[39;00m  \u001b[38;5;66;03m# type: ignore\u001b[39;00m\n\u001b[0;32m---> 52\u001b[0m \u001b[43mtry_with_registry_fallback\u001b[49m\u001b[43m(\u001b[49m\u001b[43m_import_juliacall\u001b[49m\u001b[43m)\u001b[49m\n\u001b[1;32m     55\u001b[0m \u001b[38;5;28;01mfrom\u001b[39;00m \u001b[38;5;21;01mjuliacall\u001b[39;00m \u001b[38;5;28;01mimport\u001b[39;00m AnyValue  \u001b[38;5;66;03m# type: ignore\u001b[39;00m\n\u001b[1;32m     56\u001b[0m \u001b[38;5;28;01mfrom\u001b[39;00m \u001b[38;5;21;01mjuliacall\u001b[39;00m \u001b[38;5;28;01mimport\u001b[39;00m VectorValue  \u001b[38;5;66;03m# type: ignore\u001b[39;00m\n",
      "File \u001b[0;32m~/Documents/fmf/magistrska-naloga/magisterij/venv/lib/python3.12/site-packages/pysr/julia_registry_helpers.py:29\u001b[0m, in \u001b[0;36mtry_with_registry_fallback\u001b[0;34m(f, *args, **kwargs)\u001b[0m\n\u001b[1;32m     24\u001b[0m \u001b[38;5;28;01mexcept\u001b[39;00m \u001b[38;5;167;01mException\u001b[39;00m \u001b[38;5;28;01mas\u001b[39;00m initial_error:\n\u001b[1;32m     25\u001b[0m     \u001b[38;5;66;03m# Check if this is a Julia registry error by looking at the error message\u001b[39;00m\n\u001b[1;32m     26\u001b[0m     \u001b[38;5;28;01mif\u001b[39;00m \u001b[38;5;124m\"\u001b[39m\u001b[38;5;124mJuliaError\u001b[39m\u001b[38;5;124m\"\u001b[39m \u001b[38;5;129;01mnot\u001b[39;00m \u001b[38;5;129;01min\u001b[39;00m \u001b[38;5;28mstr\u001b[39m(\n\u001b[1;32m     27\u001b[0m         \u001b[38;5;28mtype\u001b[39m(initial_error)\n\u001b[1;32m     28\u001b[0m     ) \u001b[38;5;129;01mor\u001b[39;00m \u001b[38;5;124m\"\u001b[39m\u001b[38;5;124mUnsatisfiable requirements detected\u001b[39m\u001b[38;5;124m\"\u001b[39m \u001b[38;5;129;01mnot\u001b[39;00m \u001b[38;5;129;01min\u001b[39;00m \u001b[38;5;28mstr\u001b[39m(initial_error):\n\u001b[0;32m---> 29\u001b[0m         \u001b[38;5;28;01mraise\u001b[39;00m initial_error\n\u001b[1;32m     31\u001b[0m     old_value \u001b[38;5;241m=\u001b[39m os\u001b[38;5;241m.\u001b[39menviron\u001b[38;5;241m.\u001b[39mget(PREFERENCE_KEY, \u001b[38;5;28;01mNone\u001b[39;00m)\n\u001b[1;32m     32\u001b[0m     \u001b[38;5;28;01mif\u001b[39;00m old_value \u001b[38;5;241m==\u001b[39m \u001b[38;5;124m\"\u001b[39m\u001b[38;5;124meager\u001b[39m\u001b[38;5;124m\"\u001b[39m:\n",
      "File \u001b[0;32m~/Documents/fmf/magistrska-naloga/magisterij/venv/lib/python3.12/site-packages/pysr/julia_registry_helpers.py:23\u001b[0m, in \u001b[0;36mtry_with_registry_fallback\u001b[0;34m(f, *args, **kwargs)\u001b[0m\n\u001b[1;32m     16\u001b[0m \u001b[38;5;250m\u001b[39m\u001b[38;5;124;03m\"\"\"Execute function with modified Julia registry preference.\u001b[39;00m\n\u001b[1;32m     17\u001b[0m \n\u001b[1;32m     18\u001b[0m \u001b[38;5;124;03mFirst tries with existing registry preference. If that fails with a Julia registry error,\u001b[39;00m\n\u001b[1;32m     19\u001b[0m \u001b[38;5;124;03mtemporarily modifies the registry preference to 'eager'. Restores original preference after\u001b[39;00m\n\u001b[1;32m     20\u001b[0m \u001b[38;5;124;03mexecution.\u001b[39;00m\n\u001b[1;32m     21\u001b[0m \u001b[38;5;124;03m\"\"\"\u001b[39;00m\n\u001b[1;32m     22\u001b[0m \u001b[38;5;28;01mtry\u001b[39;00m:\n\u001b[0;32m---> 23\u001b[0m     \u001b[38;5;28;01mreturn\u001b[39;00m \u001b[43mf\u001b[49m\u001b[43m(\u001b[49m\u001b[38;5;241;43m*\u001b[39;49m\u001b[43margs\u001b[49m\u001b[43m,\u001b[49m\u001b[43m \u001b[49m\u001b[38;5;241;43m*\u001b[39;49m\u001b[38;5;241;43m*\u001b[39;49m\u001b[43mkwargs\u001b[49m\u001b[43m)\u001b[49m\n\u001b[1;32m     24\u001b[0m \u001b[38;5;28;01mexcept\u001b[39;00m \u001b[38;5;167;01mException\u001b[39;00m \u001b[38;5;28;01mas\u001b[39;00m initial_error:\n\u001b[1;32m     25\u001b[0m     \u001b[38;5;66;03m# Check if this is a Julia registry error by looking at the error message\u001b[39;00m\n\u001b[1;32m     26\u001b[0m     \u001b[38;5;28;01mif\u001b[39;00m \u001b[38;5;124m\"\u001b[39m\u001b[38;5;124mJuliaError\u001b[39m\u001b[38;5;124m\"\u001b[39m \u001b[38;5;129;01mnot\u001b[39;00m \u001b[38;5;129;01min\u001b[39;00m \u001b[38;5;28mstr\u001b[39m(\n\u001b[1;32m     27\u001b[0m         \u001b[38;5;28mtype\u001b[39m(initial_error)\n\u001b[1;32m     28\u001b[0m     ) \u001b[38;5;129;01mor\u001b[39;00m \u001b[38;5;124m\"\u001b[39m\u001b[38;5;124mUnsatisfiable requirements detected\u001b[39m\u001b[38;5;124m\"\u001b[39m \u001b[38;5;129;01mnot\u001b[39;00m \u001b[38;5;129;01min\u001b[39;00m \u001b[38;5;28mstr\u001b[39m(initial_error):\n",
      "File \u001b[0;32m~/Documents/fmf/magistrska-naloga/magisterij/venv/lib/python3.12/site-packages/pysr/julia_import.py:49\u001b[0m, in \u001b[0;36m_import_juliacall\u001b[0;34m()\u001b[0m\n\u001b[1;32m     48\u001b[0m \u001b[38;5;28;01mdef\u001b[39;00m \u001b[38;5;21m_import_juliacall\u001b[39m():\n\u001b[0;32m---> 49\u001b[0m     \u001b[38;5;28;01mimport\u001b[39;00m \u001b[38;5;21;01mjuliacall\u001b[39;00m\n",
      "File \u001b[0;32m~/Documents/fmf/magistrska-naloga/magisterij/venv/lib/python3.12/site-packages/juliacall/__init__.py:288\u001b[0m\n\u001b[1;32m    285\u001b[0m     \u001b[38;5;28;01mimport\u001b[39;00m \u001b[38;5;21;01mjuliacall\u001b[39;00m\u001b[38;5;21;01m.\u001b[39;00m\u001b[38;5;21;01mipython\u001b[39;00m\n\u001b[1;32m    286\u001b[0m     juliacall\u001b[38;5;241m.\u001b[39mipython\u001b[38;5;241m.\u001b[39mload_ipython_extension(ip)\n\u001b[0;32m--> 288\u001b[0m \u001b[43minit\u001b[49m\u001b[43m(\u001b[49m\u001b[43m)\u001b[49m\n",
      "File \u001b[0;32m~/Documents/fmf/magistrska-naloga/magisterij/venv/lib/python3.12/site-packages/juliacall/__init__.py:160\u001b[0m, in \u001b[0;36minit\u001b[0;34m()\u001b[0m\n\u001b[1;32m    157\u001b[0m \u001b[38;5;28;01mimport\u001b[39;00m \u001b[38;5;21;01mjuliapkg\u001b[39;00m\n\u001b[1;32m    159\u001b[0m \u001b[38;5;66;03m# Find the Julia executable and project\u001b[39;00m\n\u001b[0;32m--> 160\u001b[0m CONFIG[\u001b[38;5;124m'\u001b[39m\u001b[38;5;124mexepath\u001b[39m\u001b[38;5;124m'\u001b[39m] \u001b[38;5;241m=\u001b[39m exepath \u001b[38;5;241m=\u001b[39m \u001b[43mjuliapkg\u001b[49m\u001b[38;5;241;43m.\u001b[39;49m\u001b[43mexecutable\u001b[49m\u001b[43m(\u001b[49m\u001b[43m)\u001b[49m\n\u001b[1;32m    161\u001b[0m CONFIG[\u001b[38;5;124m'\u001b[39m\u001b[38;5;124mproject\u001b[39m\u001b[38;5;124m'\u001b[39m] \u001b[38;5;241m=\u001b[39m project \u001b[38;5;241m=\u001b[39m juliapkg\u001b[38;5;241m.\u001b[39mproject()\n\u001b[1;32m    163\u001b[0m \u001b[38;5;66;03m# Find the Julia library\u001b[39;00m\n",
      "File \u001b[0;32m~/Documents/fmf/magistrska-naloga/magisterij/venv/lib/python3.12/site-packages/juliapkg/deps.py:435\u001b[0m, in \u001b[0;36mexecutable\u001b[0;34m()\u001b[0m\n\u001b[1;32m    434\u001b[0m \u001b[38;5;28;01mdef\u001b[39;00m \u001b[38;5;21mexecutable\u001b[39m():\n\u001b[0;32m--> 435\u001b[0m     \u001b[43mresolve\u001b[49m\u001b[43m(\u001b[49m\u001b[43m)\u001b[49m\n\u001b[1;32m    436\u001b[0m     \u001b[38;5;28;01mreturn\u001b[39;00m STATE[\u001b[38;5;124m\"\u001b[39m\u001b[38;5;124mexecutable\u001b[39m\u001b[38;5;124m\"\u001b[39m]\n",
      "File \u001b[0;32m~/Documents/fmf/magistrska-naloga/magisterij/venv/lib/python3.12/site-packages/juliapkg/deps.py:345\u001b[0m, in \u001b[0;36mresolve\u001b[0;34m(force, dry_run)\u001b[0m\n\u001b[1;32m    343\u001b[0m \u001b[38;5;66;03m# find a compatible julia executable\u001b[39;00m\n\u001b[1;32m    344\u001b[0m log(\u001b[38;5;124mf\u001b[39m\u001b[38;5;124m\"\u001b[39m\u001b[38;5;124mLocating Julia\u001b[39m\u001b[38;5;132;01m{\u001b[39;00m\u001b[38;5;124m'\u001b[39m\u001b[38;5;124m'\u001b[39m\u001b[38;5;250m \u001b[39m\u001b[38;5;28;01mif\u001b[39;00m\u001b[38;5;250m \u001b[39mcompat\u001b[38;5;250m \u001b[39m\u001b[38;5;129;01mis\u001b[39;00m\u001b[38;5;250m \u001b[39m\u001b[38;5;28;01mNone\u001b[39;00m\u001b[38;5;250m \u001b[39m\u001b[38;5;28;01melse\u001b[39;00m\u001b[38;5;250m \u001b[39m\u001b[38;5;124m'\u001b[39m\u001b[38;5;124m \u001b[39m\u001b[38;5;124m'\u001b[39m\u001b[38;5;250m \u001b[39m\u001b[38;5;241m+\u001b[39m\u001b[38;5;250m \u001b[39m\u001b[38;5;28mstr\u001b[39m(compat)\u001b[38;5;132;01m}\u001b[39;00m\u001b[38;5;124m\"\u001b[39m)\n\u001b[0;32m--> 345\u001b[0m exe, ver \u001b[38;5;241m=\u001b[39m \u001b[43mfind_julia\u001b[49m\u001b[43m(\u001b[49m\n\u001b[1;32m    346\u001b[0m \u001b[43m    \u001b[49m\u001b[43mcompat\u001b[49m\u001b[38;5;241;43m=\u001b[39;49m\u001b[43mcompat\u001b[49m\u001b[43m,\u001b[49m\u001b[43m \u001b[49m\u001b[43mprefix\u001b[49m\u001b[38;5;241;43m=\u001b[39;49m\u001b[43mSTATE\u001b[49m\u001b[43m[\u001b[49m\u001b[38;5;124;43m\"\u001b[39;49m\u001b[38;5;124;43minstall\u001b[39;49m\u001b[38;5;124;43m\"\u001b[39;49m\u001b[43m]\u001b[49m\u001b[43m,\u001b[49m\u001b[43m \u001b[49m\u001b[43minstall\u001b[49m\u001b[38;5;241;43m=\u001b[39;49m\u001b[38;5;28;43;01mTrue\u001b[39;49;00m\u001b[43m,\u001b[49m\u001b[43m \u001b[49m\u001b[43mupgrade\u001b[49m\u001b[38;5;241;43m=\u001b[39;49m\u001b[38;5;28;43;01mTrue\u001b[39;49;00m\n\u001b[1;32m    347\u001b[0m \u001b[43m\u001b[49m\u001b[43m)\u001b[49m\n\u001b[1;32m    348\u001b[0m log(\u001b[38;5;124mf\u001b[39m\u001b[38;5;124m\"\u001b[39m\u001b[38;5;124mUsing Julia \u001b[39m\u001b[38;5;132;01m{\u001b[39;00mver\u001b[38;5;132;01m}\u001b[39;00m\u001b[38;5;124m at \u001b[39m\u001b[38;5;132;01m{\u001b[39;00mexe\u001b[38;5;132;01m}\u001b[39;00m\u001b[38;5;124m\"\u001b[39m)\n\u001b[1;32m    349\u001b[0m \u001b[38;5;66;03m# set up the project\u001b[39;00m\n",
      "File \u001b[0;32m~/Documents/fmf/magistrska-naloga/magisterij/venv/lib/python3.12/site-packages/juliapkg/find_julia.py:73\u001b[0m, in \u001b[0;36mfind_julia\u001b[0;34m(compat, prefix, install, upgrade)\u001b[0m\n\u001b[1;32m     70\u001b[0m ju_exe \u001b[38;5;241m=\u001b[39m shutil\u001b[38;5;241m.\u001b[39mwhich(\u001b[38;5;124m\"\u001b[39m\u001b[38;5;124mjuliaup\u001b[39m\u001b[38;5;124m\"\u001b[39m)\n\u001b[1;32m     71\u001b[0m \u001b[38;5;28;01mif\u001b[39;00m ju_exe:\n\u001b[1;32m     72\u001b[0m     ju_compat \u001b[38;5;241m=\u001b[39m (\n\u001b[0;32m---> 73\u001b[0m         Compat\u001b[38;5;241m.\u001b[39mparse(\u001b[38;5;124m\"\u001b[39m\u001b[38;5;124m=\u001b[39m\u001b[38;5;124m\"\u001b[39m \u001b[38;5;241m+\u001b[39m \u001b[43mju_best_julia_version\u001b[49m\u001b[43m(\u001b[49m\u001b[43mcompat\u001b[49m\u001b[43m)\u001b[49m[\u001b[38;5;241m0\u001b[39m]) \u001b[38;5;28;01mif\u001b[39;00m upgrade \u001b[38;5;28;01melse\u001b[39;00m compat\n\u001b[1;32m     74\u001b[0m     )\n\u001b[1;32m     75\u001b[0m     ans \u001b[38;5;241m=\u001b[39m ju_find_julia(ju_compat, install\u001b[38;5;241m=\u001b[39minstall)\n\u001b[1;32m     76\u001b[0m     \u001b[38;5;28;01mif\u001b[39;00m ans:\n",
      "File \u001b[0;32m~/Documents/fmf/magistrska-naloga/magisterij/venv/lib/python3.12/site-packages/juliapkg/find_julia.py:139\u001b[0m, in \u001b[0;36mju_best_julia_version\u001b[0;34m(compat)\u001b[0m\n\u001b[1;32m    137\u001b[0m vers \u001b[38;5;241m=\u001b[39m ju_list_julia_versions(compat)\n\u001b[1;32m    138\u001b[0m \u001b[38;5;28;01mif\u001b[39;00m \u001b[38;5;129;01mnot\u001b[39;00m vers:\n\u001b[0;32m--> 139\u001b[0m     \u001b[38;5;28;01mraise\u001b[39;00m \u001b[38;5;167;01mException\u001b[39;00m(\n\u001b[1;32m    140\u001b[0m         \u001b[38;5;124mf\u001b[39m\u001b[38;5;124m\"\u001b[39m\u001b[38;5;124mno version of Julia is compatible with \u001b[39m\u001b[38;5;132;01m{\u001b[39;00mcompat\u001b[38;5;132;01m}\u001b[39;00m\u001b[38;5;124m - perhaps you need to\u001b[39m\u001b[38;5;124m\"\u001b[39m\n\u001b[1;32m    141\u001b[0m         \u001b[38;5;124m\"\u001b[39m\u001b[38;5;124m update JuliaUp\u001b[39m\u001b[38;5;124m\"\u001b[39m\n\u001b[1;32m    142\u001b[0m     )\n\u001b[1;32m    143\u001b[0m v \u001b[38;5;241m=\u001b[39m \u001b[38;5;28msorted\u001b[39m(vers\u001b[38;5;241m.\u001b[39mkeys(), key\u001b[38;5;241m=\u001b[39mVersion\u001b[38;5;241m.\u001b[39mparse, reverse\u001b[38;5;241m=\u001b[39m\u001b[38;5;28;01mTrue\u001b[39;00m)[\u001b[38;5;241m0\u001b[39m]\n\u001b[1;32m    144\u001b[0m \u001b[38;5;28;01mreturn\u001b[39;00m v, vers[v]\n",
      "\u001b[0;31mException\u001b[0m: no version of Julia is compatible with =1.10.0, ^1.10.3 - perhaps you need to update JuliaUp"
     ]
    }
   ],
   "source": [
    "from pysr import PySRRegressor\n",
    "\n",
    "model = PySRRegressor(\n",
    "    maxsize=20,\n",
    "    niterations=40,  # < Increase me for better results\n",
    "    binary_operators=[\"+\", \"*\"],\n",
    "    unary_operators=[\n",
    "        \"cos\",\n",
    "        \"exp\",\n",
    "        \"sin\",\n",
    "        \"inv(x) = 1/x\",\n",
    "        # ^ Custom operator (julia syntax)\n",
    "    ],\n",
    "    extra_sympy_mappings={\"inv\": lambda x: 1 / x},\n",
    "    # ^ Define operator for SymPy as well\n",
    "    elementwise_loss=\"loss(prediction, target) = (prediction - target)^2\",\n",
    "    # ^ Custom loss function (julia syntax)\n",
    ")\n"
   ]
  },
  {
   "cell_type": "code",
   "execution_count": null,
   "id": "0d9407b6",
   "metadata": {},
   "outputs": [],
   "source": [
    "model.fit(X, y)"
   ]
  }
 ],
 "metadata": {
  "kernelspec": {
   "display_name": "venv",
   "language": "python",
   "name": "python3"
  },
  "language_info": {
   "codemirror_mode": {
    "name": "ipython",
    "version": 3
   },
   "file_extension": ".py",
   "mimetype": "text/x-python",
   "name": "python",
   "nbconvert_exporter": "python",
   "pygments_lexer": "ipython3",
   "version": "3.12.3"
  }
 },
 "nbformat": 4,
 "nbformat_minor": 5
}
